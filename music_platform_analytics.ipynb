{
 "cells": [
  {
   "cell_type": "markdown",
   "id": "0b76a82a",
   "metadata": {},
   "source": [
    "# Data importation, merging, and cleaning"
   ]
  },
  {
   "cell_type": "code",
   "execution_count": 1,
   "id": "bff8acfa",
   "metadata": {},
   "outputs": [],
   "source": [
    "#Enabling multiple outputs\n",
    "from IPython.core.interactiveshell import InteractiveShell\n",
    "InteractiveShell.ast_node_interactivity = \"all\""
   ]
  },
  {
   "cell_type": "markdown",
   "id": "f227f0af",
   "metadata": {},
   "source": [
    "**Importing the relevant libraries**"
   ]
  },
  {
   "cell_type": "code",
   "execution_count": 2,
   "id": "17f71148",
   "metadata": {},
   "outputs": [],
   "source": [
    "import pandas as pd\n",
    "import numpy as np\n",
    "import seaborn as sns\n",
    "import matplotlib.pyplot as plt\n",
    "from sklearn.impute import KNNImputer\n",
    "from sklearn.preprocessing import OneHotEncoder, StandardScaler\n",
    "from scipy.stats import shapiro\n",
    "from sklearn.compose import ColumnTransformer\n",
    "from sklearn.model_selection import train_test_split\n",
    "from sklearn.ensemble import RandomForestClassifier\n",
    "from sklearn.metrics import accuracy_score, precision_score, recall_score, f1_score, confusion_matrix, classification_report\n",
    "from sklearn.metrics import confusion_matrix as sk_confusion_matrix\n",
    "from sklearn.model_selection import GridSearchCV\n",
    "from sklearn.decomposition import PCA\n",
    "from sklearn.feature_selection import RFE\n",
    "from sklearn.linear_model import LogisticRegression\n",
    "from sklearn.svm import SVC"
   ]
  },
  {
   "cell_type": "markdown",
   "id": "1adb454a",
   "metadata": {},
   "source": [
    "**Importing the relevant datasets used for analysis**"
   ]
  },
  {
   "cell_type": "code",
   "execution_count": 3,
   "id": "10ed64fe",
   "metadata": {},
   "outputs": [
    {
     "name": "stderr",
     "output_type": "stream",
     "text": [
      "/var/folders/34/r1qq3xjj39l1mlwm2grbxj_c0000gn/T/ipykernel_2861/1843106737.py:8: DtypeWarning: Columns (11,45,49,59,67) have mixed types. Specify dtype option on import or set low_memory=False.\n",
      "  users_userprofile = pd.read_csv('users_userprofile.csv')\n"
     ]
    }
   ],
   "source": [
    "auth_user = pd.read_csv('auth_user.csv')\n",
    "discover_genres = pd.read_csv('discover_genres.csv')\n",
    "message_usermessagesettings = pd.read_csv('message_usermessagesettings.csv')\n",
    "studio_song = pd.read_csv('studio_song.csv')\n",
    "studio_song_tags = pd.read_csv('studio_song_tags.csv')\n",
    "users_registrationcountry = pd.read_csv('users_registrationcountry.csv')\n",
    "users_userclassifications = pd.read_csv('users_userclassifications.csv')\n",
    "users_userprofile = pd.read_csv('users_userprofile.csv')\n",
    "users_userprofile_classifications = pd.read_csv('users_userprofile_classifications.csv')"
   ]
  },
  {
   "cell_type": "markdown",
   "id": "4fdcdd67",
   "metadata": {},
   "source": [
    "### User_userprofile dataset"
   ]
  },
  {
   "cell_type": "markdown",
   "id": "3c1c7da4",
   "metadata": {},
   "source": [
    "**Merging the \"users_userprofile\" dataset and \"message_usermessagesettings\" dataset**"
   ]
  },
  {
   "cell_type": "code",
   "execution_count": 4,
   "id": "6a4d933c",
   "metadata": {},
   "outputs": [],
   "source": [
    "df1 = users_userprofile.merge(message_usermessagesettings, on='user_id')"
   ]
  },
  {
   "cell_type": "code",
   "execution_count": 5,
   "id": "b26936af",
   "metadata": {},
   "outputs": [
    {
     "data": {
      "text/plain": [
       "0            1\n",
       "1            2\n",
       "2            4\n",
       "3            5\n",
       "4            6\n",
       "         ...  \n",
       "17969    18301\n",
       "17970    18302\n",
       "17971    18303\n",
       "17972    18304\n",
       "17973    18305\n",
       "Name: id_y, Length: 17974, dtype: int64"
      ]
     },
     "execution_count": 5,
     "metadata": {},
     "output_type": "execute_result"
    }
   ],
   "source": [
    "df1['id_y']"
   ]
  },
  {
   "cell_type": "code",
   "execution_count": 6,
   "id": "a310a0c8",
   "metadata": {},
   "outputs": [],
   "source": [
    "df1.rename({'id_x': 'id'}, axis = 1, inplace = True)"
   ]
  },
  {
   "cell_type": "markdown",
   "id": "32b20030",
   "metadata": {},
   "source": [
    "**Merging \"df1\" dataset with \"auth_user\" dataset**"
   ]
  },
  {
   "cell_type": "code",
   "execution_count": 7,
   "id": "d7c42812",
   "metadata": {},
   "outputs": [
    {
     "data": {
      "text/plain": [
       "17974"
      ]
     },
     "execution_count": 7,
     "metadata": {},
     "output_type": "execute_result"
    }
   ],
   "source": [
    "user_df = df1.merge(auth_user, how='left')\n",
    "len(user_df.index)"
   ]
  },
  {
   "cell_type": "markdown",
   "id": "4e320e47",
   "metadata": {},
   "source": [
    "**Merging the \"user_registrationcountry\" dataset with \"user_df\" created above**"
   ]
  },
  {
   "cell_type": "code",
   "execution_count": 8,
   "id": "167bda93",
   "metadata": {},
   "outputs": [
    {
     "data": {
      "text/plain": [
       "17974"
      ]
     },
     "execution_count": 8,
     "metadata": {},
     "output_type": "execute_result"
    }
   ],
   "source": [
    "users_registrationcountry = users_registrationcountry.drop(columns=['image', 'continent_id','country_code','flag_image','stripe_enabled','currency_code'])\n",
    "users_registrationcountry.rename({'id': 'country_id'}, axis = 1, inplace = True)\n",
    "users_registrationcountry.rename({'name': 'country_name'}, axis = 1, inplace = True)\n",
    "\n",
    "user_df = user_df.merge(users_registrationcountry, how='left')\n",
    "\n",
    "#drop country_id\n",
    "user_df = user_df.drop('country_id', axis=1)\n",
    "\n",
    "#remove the column id and move user_id column to the first column\n",
    "user_df = user_df.drop('id', axis=1)\n",
    "user_id = user_df.pop('user_id') \n",
    "user_df.insert(0, 'user_id', user_id) \n",
    "len(user_df.index)\n"
   ]
  },
  {
   "cell_type": "code",
   "execution_count": 9,
   "id": "757bdfd1",
   "metadata": {},
   "outputs": [
    {
     "name": "stdout",
     "output_type": "stream",
     "text": [
      "['user_id', 'name', 'gender', 'date_of_birth', 'occupation', 'allow_collaboration', 'allow_direct_messaging', 'user_type', 'login_type', 'allow_comments', 'show_skills', 'hide_profile', 'no_likes', 'email_verified', 'signup_source', 'chipin_account_type', 'verified', 'artist_page_likes', 'song_page_likes', 'collaboration_requests', 'artist_comments', 'song_comments', 'subscription_offers', 'artist_news', 'app_updates', 'sponsored_promotions', 'support_requests', 'direct_messages', 'is_superuser', 'username', 'is_staff', 'is_active', 'date_joined', 'country_name']\n"
     ]
    }
   ],
   "source": [
    "#removing unwanted columns from user profile dataframe\n",
    "user_df = user_df.drop(columns=['photo', 'cover_photo','site','phone','facebook','instagram','snapchat','bio','timestamp','timestamp_updated','strap_line','migrated','account_type_id','city_id','reward_id','rights_co_publisher_id','rights_publisher_id','rights_society_id','county_id','back_cover_image','player_extra_image','player_extra_image_2','player_extra_image_3','player_extra_image_4','player_image','real_name','twitter','dark_mode','stripe_account_id','stripe_account_status','stripe_customer_id','stripe_customer_status','stripe_state','user_has_migrated','email_token','onboarded','v2_id', 'stripe_payment_enabled', 'user_account_type', 'youtube', 'platform_stripe_customer_id', 'campaign_code_id', 'agile_id', 'rc_product', 'locked', 'chipin_plus_subscription_id', 'chipin_plus_lock_all_songs', 'soundcloud', 'platform_upgrade_expires_at', 'made_on_stripe_account', 'tiktok', 'id_y', 'created_at', 'updated_at', 'allow_direct_messages', 'show_read_receipts', 'password', 'last_login', 'first_name', 'last_name'])\n",
    "print(user_df.columns.tolist())"
   ]
  },
  {
   "cell_type": "markdown",
   "id": "d4bf3f9d",
   "metadata": {},
   "source": [
    "**Merging \"users_userprofile_classifications\" and \"users_userclassifications\", and then with the main \"user_df\" dataframe**"
   ]
  },
  {
   "cell_type": "code",
   "execution_count": 10,
   "id": "0f6a544a",
   "metadata": {},
   "outputs": [],
   "source": [
    "users_userclassifications = users_userclassifications.drop(columns=['timestamp', 'timestamp_updated'])\n",
    "users_userclassifications.rename({'id': 'userclassifications_id'}, axis = 1, inplace = True)\n",
    "users_userclassifications.rename({'name': 'userclassifications_name'}, axis = 1, inplace = True)\n",
    "\n",
    "users_userprofile_classifications = users_userprofile_classifications.drop('id', axis=1)\n",
    "users_userprofile_classifications.rename({'userprofile_id': 'user_id'}, axis = 1, inplace = True)\n",
    "\n",
    "users_userprofile_classifications = users_userprofile_classifications.merge(users_userclassifications, how='left')"
   ]
  },
  {
   "cell_type": "code",
   "execution_count": 11,
   "id": "16e7e5f9",
   "metadata": {},
   "outputs": [],
   "source": [
    "rough_df = pd.merge(user_df, users_userprofile_classifications, on='user_id', how='left')"
   ]
  },
  {
   "cell_type": "markdown",
   "id": "9712bd87",
   "metadata": {},
   "source": [
    "### Studio_song dataset"
   ]
  },
  {
   "cell_type": "code",
   "execution_count": 12,
   "id": "30565987",
   "metadata": {},
   "outputs": [],
   "source": [
    "studio_song.rename({'id': 'song_id'}, axis = 1, inplace = True)"
   ]
  },
  {
   "cell_type": "markdown",
   "id": "05d6dcb9",
   "metadata": {},
   "source": [
    "**Merging the \"studio_song\" dataset and \"studio_song_tags\" dataset**"
   ]
  },
  {
   "cell_type": "code",
   "execution_count": 13,
   "id": "bd829714",
   "metadata": {
    "scrolled": true
   },
   "outputs": [
    {
     "data": {
      "text/plain": [
       "30207"
      ]
     },
     "execution_count": 13,
     "metadata": {},
     "output_type": "execute_result"
    },
    {
     "name": "stdout",
     "output_type": "stream",
     "text": [
      "Index(['song_id', 'uuid', 'name', 'slug', 'duration', 'featured', 'cover',\n",
      "       'banner_image', 'colour_scheme', 'retraks_count', 'downloads_count',\n",
      "       'retrak', 'stem', 'description', 'back_cover_description', 'explicit',\n",
      "       'show_collaborators', 'lyrics_allowed', 'public', 'allow_retrak',\n",
      "       'allow_stem', 'deleted', 'deleted_at', 'migrated', 'created_at',\n",
      "       'updated_at', 'genre_id', 'reward_id', 'sub_genre_id',\n",
      "       'sub_sub_genre_id', 'user_id', 'back_cover_image', 'player_extra_image',\n",
      "       'player_extra_image_2', 'player_extra_image_3', 'player_extra_image_4',\n",
      "       'player_image', 'mixer_on_player', 'no_likes', 'no_plays',\n",
      "       'no_retracks', 'original_creator_id', 'state', 'v2_id', 'v2_project_id',\n",
      "       'uploaded', 'source', 'pan', 'volume', 'locked', 'hide_from_discover',\n",
      "       'id', 'genres_id'],\n",
      "      dtype='object')\n"
     ]
    }
   ],
   "source": [
    "song_df = studio_song.merge(studio_song_tags, how='left')\n",
    "len(song_df.index)\n",
    "print(song_df.columns)"
   ]
  },
  {
   "cell_type": "code",
   "execution_count": 14,
   "id": "c9b5e6a9",
   "metadata": {},
   "outputs": [
    {
     "name": "stdout",
     "output_type": "stream",
     "text": [
      "['song_id', 'name', 'downloads_count', 'explicit', 'public', 'deleted', 'genre_id', 'user_id', 'no_likes', 'no_plays', 'state', 'source', 'pan', 'volume', 'locked', 'hide_from_discover']\n"
     ]
    }
   ],
   "source": [
    "#removing unwanted columns from studio song dataframe\n",
    "song_df = song_df.drop(columns=['uuid','slug', 'duration', 'featured', 'cover', 'banner_image', 'colour_scheme', 'retraks_count', 'retrak', 'stem', 'description', 'back_cover_description', 'show_collaborators', 'lyrics_allowed', 'allow_retrak', 'allow_stem', 'deleted_at', 'migrated', 'created_at', 'updated_at', 'reward_id', 'sub_genre_id', 'sub_sub_genre_id', 'back_cover_image', 'player_extra_image', 'player_extra_image_2', 'player_extra_image_3', 'player_extra_image_4', 'player_image', 'mixer_on_player', 'no_retracks', 'original_creator_id', 'v2_id', 'v2_project_id', 'uploaded', 'genres_id','id'])\n",
    "print(song_df.columns.tolist())"
   ]
  },
  {
   "cell_type": "markdown",
   "id": "846e15db",
   "metadata": {},
   "source": [
    "**Replacing genre_id with genre_name in the \"song_df\" dataset (based on discover_genres table)**"
   ]
  },
  {
   "cell_type": "code",
   "execution_count": 15,
   "id": "79b1f708",
   "metadata": {},
   "outputs": [],
   "source": [
    "#dropping irrelevant columns from discover_genres table and renaming column names\n",
    "discover_genres = discover_genres.drop(columns=['tag_type', 'image_active','image_inactive','created_at','updated_at','search_count','parent_id','image','banner_image'])\n",
    "discover_genres.rename({'id': 'genre_id'}, axis = 1, inplace = True)\n",
    "discover_genres.rename({'tag': 'genre_name'}, axis = 1, inplace = True)\n",
    "\n",
    "#merging updated discover_genres table into final dataset\n",
    "song_df = song_df.merge(discover_genres, how='left')\n",
    "\n",
    "#drop genre_id\n",
    "song_df = song_df.drop('genre_id', axis=1)"
   ]
  },
  {
   "cell_type": "markdown",
   "id": "ea71ff98",
   "metadata": {},
   "source": [
    "**Checking for duplicate values in song_df and user_df**"
   ]
  },
  {
   "cell_type": "code",
   "execution_count": 16,
   "id": "d3d6668b",
   "metadata": {},
   "outputs": [
    {
     "name": "stdout",
     "output_type": "stream",
     "text": [
      "0\n",
      "973\n"
     ]
    }
   ],
   "source": [
    "#checking for number of duplicate values in user profile table by user id\n",
    "num_duplicates_user = user_df.duplicated(subset=['user_id']).sum()\n",
    "\n",
    "# Print the number of duplicate rows\n",
    "print(num_duplicates_user)\n",
    "\n",
    "#checking for number of duplicate values in song table by song id\n",
    "num_duplicates_songs = song_df.duplicated(subset=['song_id']).sum()\n",
    "\n",
    "# Print the number of duplicate rows\n",
    "print(num_duplicates_songs)\n",
    "\n",
    "#dropping all duplicate values from song table\n",
    "song_df = song_df.drop_duplicates()"
   ]
  },
  {
   "cell_type": "code",
   "execution_count": 17,
   "id": "b7cb535c",
   "metadata": {},
   "outputs": [
    {
     "name": "stdout",
     "output_type": "stream",
     "text": [
      "user_id                       0\n",
      "name                      10950\n",
      "gender                     6950\n",
      "date_of_birth              8204\n",
      "occupation                17764\n",
      "allow_collaboration           0\n",
      "allow_direct_messaging        0\n",
      "user_type                  2016\n",
      "login_type                    0\n",
      "allow_comments                0\n",
      "show_skills                   0\n",
      "hide_profile                  0\n",
      "no_likes                      0\n",
      "email_verified                0\n",
      "signup_source                 0\n",
      "chipin_account_type           0\n",
      "verified                      0\n",
      "artist_page_likes             0\n",
      "song_page_likes               0\n",
      "collaboration_requests        0\n",
      "artist_comments               0\n",
      "song_comments                 0\n",
      "subscription_offers           0\n",
      "artist_news                   0\n",
      "app_updates                   0\n",
      "sponsored_promotions          0\n",
      "support_requests              0\n",
      "direct_messages               0\n",
      "is_superuser                713\n",
      "username                    713\n",
      "is_staff                    713\n",
      "is_active                   713\n",
      "date_joined                 713\n",
      "country_name              15271\n",
      "dtype: int64\n"
     ]
    }
   ],
   "source": [
    "print(user_df.isnull().sum())\n",
    "#filling missing values on other object features\n",
    "other_user_features = ['name','occupation','username','country_name']\n",
    "user_df[other_user_features] = user_df[other_user_features].fillna('Unknown')"
   ]
  },
  {
   "cell_type": "markdown",
   "id": "70bff7e2",
   "metadata": {},
   "source": [
    "**DATA TRANSFORMATION: doing one-hot encoding to convert categorical features to binary format**"
   ]
  },
  {
   "cell_type": "code",
   "execution_count": 18,
   "id": "95fe24c5",
   "metadata": {},
   "outputs": [],
   "source": [
    "#One hot encoding to convert the categorical features to binary format\n",
    "user_dummy_cat = user_df[['gender', 'allow_collaboration','allow_direct_messaging','user_type', 'login_type', 'allow_comments', 'show_skills', 'hide_profile', 'email_verified', 'signup_source','chipin_account_type','verified', 'artist_page_likes', 'song_page_likes', 'collaboration_requests', 'artist_comments', 'song_comments', 'subscription_offers', 'artist_news', 'app_updates', 'sponsored_promotions', 'support_requests', 'direct_messages','is_superuser', 'is_staff', 'is_active']]\n",
    "user_dummy_var = pd.get_dummies(user_dummy_cat)\n",
    "user_df = user_df.drop(['gender', 'allow_collaboration','allow_direct_messaging','user_type', 'login_type', 'allow_comments', 'show_skills', 'hide_profile', 'email_verified', 'signup_source','chipin_account_type','verified', 'artist_page_likes', 'song_page_likes', 'collaboration_requests', 'artist_comments', 'song_comments', 'subscription_offers', 'artist_news', 'app_updates', 'sponsored_promotions', 'support_requests', 'direct_messages','is_superuser', 'is_staff', 'is_active'], axis=1)\n",
    "user_df = pd.concat([user_df, user_dummy_var], axis=1)"
   ]
  },
  {
   "cell_type": "markdown",
   "id": "5f2e8e79",
   "metadata": {},
   "source": [
    "**Checking for null values in song_df**"
   ]
  },
  {
   "cell_type": "code",
   "execution_count": 19,
   "id": "62d666d5",
   "metadata": {},
   "outputs": [
    {
     "name": "stdout",
     "output_type": "stream",
     "text": [
      "song_id                   0\n",
      "name                      0\n",
      "downloads_count           0\n",
      "explicit                  0\n",
      "public                    0\n",
      "deleted                   0\n",
      "user_id                   0\n",
      "no_likes                  0\n",
      "no_plays                  0\n",
      "state                     0\n",
      "source                    0\n",
      "pan                       0\n",
      "volume                    0\n",
      "locked                    0\n",
      "hide_from_discover        0\n",
      "genre_name            27464\n",
      "dtype: int64\n"
     ]
    }
   ],
   "source": [
    "print(song_df.isnull().sum())\n",
    "#filling missing values on other object features in song table\n",
    "other_song_features = ['genre_name']\n",
    "song_df[other_song_features] = song_df[other_song_features].fillna('Unknown')"
   ]
  },
  {
   "cell_type": "markdown",
   "id": "f8984dd4",
   "metadata": {},
   "source": [
    "**DATA TRANSFORMATION: doing one-hot encoding to convert categorical features to binary format**"
   ]
  },
  {
   "cell_type": "code",
   "execution_count": 20,
   "id": "546190af",
   "metadata": {},
   "outputs": [],
   "source": [
    "#One hot encoding to convert the categorical features in song table to binary format\n",
    "song_dummy_cat = song_df[['explicit','public','deleted','state','source','locked', 'hide_from_discover']]\n",
    "song_dummy_var = pd.get_dummies(song_dummy_cat)\n",
    "song_df = song_df.drop(['explicit','public','deleted','state','source','locked', 'hide_from_discover'], axis=1)\n",
    "song_df = pd.concat([song_df, song_dummy_var], axis=1)"
   ]
  },
  {
   "cell_type": "markdown",
   "id": "2afddcb5",
   "metadata": {},
   "source": [
    "### **Creating the outcome variable labeled \"Success\"**"
   ]
  },
  {
   "cell_type": "markdown",
   "id": "cc564a50",
   "metadata": {},
   "source": [
    "For further analysis using a model, the success of an artist is measured based on the number of plays they get from a song. The \"song_df\" dataset that contains this information has been utilised. \"Success\" is a binary variable that will be encoded as 1 is the artist is successful and 0 if not successful. The threshold of \"no_plays\" that will determine success is taken as the 75th percentile of \"no_plays\" variable which is 3 plays. Any song that has greater than 3 plays will be consdiered as \"Success = 1\".  "
   ]
  },
  {
   "cell_type": "code",
   "execution_count": 21,
   "id": "82d33ee2",
   "metadata": {},
   "outputs": [
    {
     "name": "stdout",
     "output_type": "stream",
     "text": [
      "75th percentile:  3.0\n"
     ]
    }
   ],
   "source": [
    "p75 = song_df[\"no_plays\"].quantile(0.75)\n",
    "print(\"75th percentile: \", p75)"
   ]
  },
  {
   "cell_type": "code",
   "execution_count": 22,
   "id": "1fc23eaf",
   "metadata": {},
   "outputs": [],
   "source": [
    "# Create a new column called \"Success\" with values of 1 or 0 based on the \"no_plays\" column and the threshold\n",
    "song_df[\"Success\"] = song_df[\"no_plays\"].apply(lambda x: 1 if x >= 3 else 0)"
   ]
  },
  {
   "cell_type": "code",
   "execution_count": 23,
   "id": "55f1a87e",
   "metadata": {},
   "outputs": [
    {
     "name": "stdout",
     "output_type": "stream",
     "text": [
      "Number of successful songs:  7629\n",
      "Number of non successful songs:  21605\n"
     ]
    }
   ],
   "source": [
    "count_success = (song_df[\"Success\"] == 1).sum()\n",
    "count_no_success = (song_df[\"Success\"] == 0).sum()\n",
    "print(\"Number of successful songs: \", count_success)\n",
    "print(\"Number of non successful songs: \", count_no_success)"
   ]
  },
  {
   "cell_type": "markdown",
   "id": "d6c6cde3",
   "metadata": {},
   "source": [
    "# Exploratory Analysis"
   ]
  },
  {
   "cell_type": "markdown",
   "id": "fc7a3444",
   "metadata": {},
   "source": [
    "In this section, the final datasets are initaially explored to detect trends, patterns and correlations. The first area to consider is the descriptive statistics to get the overall view of the final dataset."
   ]
  },
  {
   "cell_type": "markdown",
   "id": "0a30a3c9",
   "metadata": {},
   "source": [
    "## Descriptive Analysis"
   ]
  },
  {
   "cell_type": "markdown",
   "id": "8d6e5528",
   "metadata": {},
   "source": [
    "This section relates to the initial outlook of the datasets after initial cleaning and preprocessing."
   ]
  },
  {
   "cell_type": "code",
   "execution_count": 24,
   "id": "0e08ce2c",
   "metadata": {},
   "outputs": [
    {
     "data": {
      "text/html": [
       "<div>\n",
       "<style scoped>\n",
       "    .dataframe tbody tr th:only-of-type {\n",
       "        vertical-align: middle;\n",
       "    }\n",
       "\n",
       "    .dataframe tbody tr th {\n",
       "        vertical-align: top;\n",
       "    }\n",
       "\n",
       "    .dataframe thead th {\n",
       "        text-align: right;\n",
       "    }\n",
       "</style>\n",
       "<table border=\"1\" class=\"dataframe\">\n",
       "  <thead>\n",
       "    <tr style=\"text-align: right;\">\n",
       "      <th></th>\n",
       "      <th>user_id</th>\n",
       "      <th>no_likes</th>\n",
       "      <th>gender_female</th>\n",
       "      <th>gender_male</th>\n",
       "      <th>gender_unknown</th>\n",
       "      <th>user_type_creator</th>\n",
       "      <th>user_type_discover</th>\n",
       "      <th>login_type_apple</th>\n",
       "      <th>login_type_email</th>\n",
       "      <th>login_type_facebook</th>\n",
       "      <th>...</th>\n",
       "      <th>signup_source_web</th>\n",
       "      <th>chipin_account_type_chipin</th>\n",
       "      <th>chipin_account_type_chipin_plus</th>\n",
       "      <th>chipin_account_type_not_enabled</th>\n",
       "      <th>is_superuser_False</th>\n",
       "      <th>is_superuser_True</th>\n",
       "      <th>is_staff_False</th>\n",
       "      <th>is_staff_True</th>\n",
       "      <th>is_active_False</th>\n",
       "      <th>is_active_True</th>\n",
       "    </tr>\n",
       "  </thead>\n",
       "  <tbody>\n",
       "    <tr>\n",
       "      <th>count</th>\n",
       "      <td>17974.000000</td>\n",
       "      <td>17974.000000</td>\n",
       "      <td>17974.000000</td>\n",
       "      <td>17974.000000</td>\n",
       "      <td>17974.000000</td>\n",
       "      <td>17974.000000</td>\n",
       "      <td>17974.000000</td>\n",
       "      <td>17974.000000</td>\n",
       "      <td>17974.000000</td>\n",
       "      <td>17974.000000</td>\n",
       "      <td>...</td>\n",
       "      <td>17974.000000</td>\n",
       "      <td>17974.000000</td>\n",
       "      <td>17974.000000</td>\n",
       "      <td>17974.000000</td>\n",
       "      <td>17974.000000</td>\n",
       "      <td>17974.000000</td>\n",
       "      <td>17974.000000</td>\n",
       "      <td>17974.000000</td>\n",
       "      <td>17974.000000</td>\n",
       "      <td>17974.000000</td>\n",
       "    </tr>\n",
       "    <tr>\n",
       "      <th>mean</th>\n",
       "      <td>9329.644097</td>\n",
       "      <td>3.429287</td>\n",
       "      <td>0.195838</td>\n",
       "      <td>0.343886</td>\n",
       "      <td>0.073606</td>\n",
       "      <td>0.732558</td>\n",
       "      <td>0.155280</td>\n",
       "      <td>0.191666</td>\n",
       "      <td>0.494325</td>\n",
       "      <td>0.113219</td>\n",
       "      <td>...</td>\n",
       "      <td>0.098476</td>\n",
       "      <td>0.006176</td>\n",
       "      <td>0.006676</td>\n",
       "      <td>0.987148</td>\n",
       "      <td>0.959608</td>\n",
       "      <td>0.000723</td>\n",
       "      <td>0.959553</td>\n",
       "      <td>0.000779</td>\n",
       "      <td>0.000835</td>\n",
       "      <td>0.959497</td>\n",
       "    </tr>\n",
       "    <tr>\n",
       "      <th>std</th>\n",
       "      <td>5435.132198</td>\n",
       "      <td>7.750934</td>\n",
       "      <td>0.396856</td>\n",
       "      <td>0.475017</td>\n",
       "      <td>0.261136</td>\n",
       "      <td>0.442637</td>\n",
       "      <td>0.362181</td>\n",
       "      <td>0.393622</td>\n",
       "      <td>0.499982</td>\n",
       "      <td>0.316869</td>\n",
       "      <td>...</td>\n",
       "      <td>0.297965</td>\n",
       "      <td>0.078344</td>\n",
       "      <td>0.081438</td>\n",
       "      <td>0.112639</td>\n",
       "      <td>0.196882</td>\n",
       "      <td>0.026885</td>\n",
       "      <td>0.197011</td>\n",
       "      <td>0.027899</td>\n",
       "      <td>0.028877</td>\n",
       "      <td>0.197141</td>\n",
       "    </tr>\n",
       "    <tr>\n",
       "      <th>min</th>\n",
       "      <td>1.000000</td>\n",
       "      <td>0.000000</td>\n",
       "      <td>0.000000</td>\n",
       "      <td>0.000000</td>\n",
       "      <td>0.000000</td>\n",
       "      <td>0.000000</td>\n",
       "      <td>0.000000</td>\n",
       "      <td>0.000000</td>\n",
       "      <td>0.000000</td>\n",
       "      <td>0.000000</td>\n",
       "      <td>...</td>\n",
       "      <td>0.000000</td>\n",
       "      <td>0.000000</td>\n",
       "      <td>0.000000</td>\n",
       "      <td>0.000000</td>\n",
       "      <td>0.000000</td>\n",
       "      <td>0.000000</td>\n",
       "      <td>0.000000</td>\n",
       "      <td>0.000000</td>\n",
       "      <td>0.000000</td>\n",
       "      <td>0.000000</td>\n",
       "    </tr>\n",
       "    <tr>\n",
       "      <th>25%</th>\n",
       "      <td>4501.250000</td>\n",
       "      <td>0.000000</td>\n",
       "      <td>0.000000</td>\n",
       "      <td>0.000000</td>\n",
       "      <td>0.000000</td>\n",
       "      <td>0.000000</td>\n",
       "      <td>0.000000</td>\n",
       "      <td>0.000000</td>\n",
       "      <td>0.000000</td>\n",
       "      <td>0.000000</td>\n",
       "      <td>...</td>\n",
       "      <td>0.000000</td>\n",
       "      <td>0.000000</td>\n",
       "      <td>0.000000</td>\n",
       "      <td>1.000000</td>\n",
       "      <td>1.000000</td>\n",
       "      <td>0.000000</td>\n",
       "      <td>1.000000</td>\n",
       "      <td>0.000000</td>\n",
       "      <td>0.000000</td>\n",
       "      <td>1.000000</td>\n",
       "    </tr>\n",
       "    <tr>\n",
       "      <th>50%</th>\n",
       "      <td>9387.500000</td>\n",
       "      <td>0.000000</td>\n",
       "      <td>0.000000</td>\n",
       "      <td>0.000000</td>\n",
       "      <td>0.000000</td>\n",
       "      <td>1.000000</td>\n",
       "      <td>0.000000</td>\n",
       "      <td>0.000000</td>\n",
       "      <td>0.000000</td>\n",
       "      <td>0.000000</td>\n",
       "      <td>...</td>\n",
       "      <td>0.000000</td>\n",
       "      <td>0.000000</td>\n",
       "      <td>0.000000</td>\n",
       "      <td>1.000000</td>\n",
       "      <td>1.000000</td>\n",
       "      <td>0.000000</td>\n",
       "      <td>1.000000</td>\n",
       "      <td>0.000000</td>\n",
       "      <td>0.000000</td>\n",
       "      <td>1.000000</td>\n",
       "    </tr>\n",
       "    <tr>\n",
       "      <th>75%</th>\n",
       "      <td>14002.750000</td>\n",
       "      <td>0.000000</td>\n",
       "      <td>0.000000</td>\n",
       "      <td>1.000000</td>\n",
       "      <td>0.000000</td>\n",
       "      <td>1.000000</td>\n",
       "      <td>0.000000</td>\n",
       "      <td>0.000000</td>\n",
       "      <td>1.000000</td>\n",
       "      <td>0.000000</td>\n",
       "      <td>...</td>\n",
       "      <td>0.000000</td>\n",
       "      <td>0.000000</td>\n",
       "      <td>0.000000</td>\n",
       "      <td>1.000000</td>\n",
       "      <td>1.000000</td>\n",
       "      <td>0.000000</td>\n",
       "      <td>1.000000</td>\n",
       "      <td>0.000000</td>\n",
       "      <td>0.000000</td>\n",
       "      <td>1.000000</td>\n",
       "    </tr>\n",
       "    <tr>\n",
       "      <th>max</th>\n",
       "      <td>18731.000000</td>\n",
       "      <td>176.000000</td>\n",
       "      <td>1.000000</td>\n",
       "      <td>1.000000</td>\n",
       "      <td>1.000000</td>\n",
       "      <td>1.000000</td>\n",
       "      <td>1.000000</td>\n",
       "      <td>1.000000</td>\n",
       "      <td>1.000000</td>\n",
       "      <td>1.000000</td>\n",
       "      <td>...</td>\n",
       "      <td>1.000000</td>\n",
       "      <td>1.000000</td>\n",
       "      <td>1.000000</td>\n",
       "      <td>1.000000</td>\n",
       "      <td>1.000000</td>\n",
       "      <td>1.000000</td>\n",
       "      <td>1.000000</td>\n",
       "      <td>1.000000</td>\n",
       "      <td>1.000000</td>\n",
       "      <td>1.000000</td>\n",
       "    </tr>\n",
       "  </tbody>\n",
       "</table>\n",
       "<p>8 rows × 22 columns</p>\n",
       "</div>"
      ],
      "text/plain": [
       "            user_id      no_likes  gender_female   gender_male  \\\n",
       "count  17974.000000  17974.000000   17974.000000  17974.000000   \n",
       "mean    9329.644097      3.429287       0.195838      0.343886   \n",
       "std     5435.132198      7.750934       0.396856      0.475017   \n",
       "min        1.000000      0.000000       0.000000      0.000000   \n",
       "25%     4501.250000      0.000000       0.000000      0.000000   \n",
       "50%     9387.500000      0.000000       0.000000      0.000000   \n",
       "75%    14002.750000      0.000000       0.000000      1.000000   \n",
       "max    18731.000000    176.000000       1.000000      1.000000   \n",
       "\n",
       "       gender_unknown  user_type_creator  user_type_discover  \\\n",
       "count    17974.000000       17974.000000        17974.000000   \n",
       "mean         0.073606           0.732558            0.155280   \n",
       "std          0.261136           0.442637            0.362181   \n",
       "min          0.000000           0.000000            0.000000   \n",
       "25%          0.000000           0.000000            0.000000   \n",
       "50%          0.000000           1.000000            0.000000   \n",
       "75%          0.000000           1.000000            0.000000   \n",
       "max          1.000000           1.000000            1.000000   \n",
       "\n",
       "       login_type_apple  login_type_email  login_type_facebook  ...  \\\n",
       "count      17974.000000      17974.000000         17974.000000  ...   \n",
       "mean           0.191666          0.494325             0.113219  ...   \n",
       "std            0.393622          0.499982             0.316869  ...   \n",
       "min            0.000000          0.000000             0.000000  ...   \n",
       "25%            0.000000          0.000000             0.000000  ...   \n",
       "50%            0.000000          0.000000             0.000000  ...   \n",
       "75%            0.000000          1.000000             0.000000  ...   \n",
       "max            1.000000          1.000000             1.000000  ...   \n",
       "\n",
       "       signup_source_web  chipin_account_type_chipin  \\\n",
       "count       17974.000000                17974.000000   \n",
       "mean            0.098476                    0.006176   \n",
       "std             0.297965                    0.078344   \n",
       "min             0.000000                    0.000000   \n",
       "25%             0.000000                    0.000000   \n",
       "50%             0.000000                    0.000000   \n",
       "75%             0.000000                    0.000000   \n",
       "max             1.000000                    1.000000   \n",
       "\n",
       "       chipin_account_type_chipin_plus  chipin_account_type_not_enabled  \\\n",
       "count                     17974.000000                     17974.000000   \n",
       "mean                          0.006676                         0.987148   \n",
       "std                           0.081438                         0.112639   \n",
       "min                           0.000000                         0.000000   \n",
       "25%                           0.000000                         1.000000   \n",
       "50%                           0.000000                         1.000000   \n",
       "75%                           0.000000                         1.000000   \n",
       "max                           1.000000                         1.000000   \n",
       "\n",
       "       is_superuser_False  is_superuser_True  is_staff_False  is_staff_True  \\\n",
       "count        17974.000000       17974.000000    17974.000000   17974.000000   \n",
       "mean             0.959608           0.000723        0.959553       0.000779   \n",
       "std              0.196882           0.026885        0.197011       0.027899   \n",
       "min              0.000000           0.000000        0.000000       0.000000   \n",
       "25%              1.000000           0.000000        1.000000       0.000000   \n",
       "50%              1.000000           0.000000        1.000000       0.000000   \n",
       "75%              1.000000           0.000000        1.000000       0.000000   \n",
       "max              1.000000           1.000000        1.000000       1.000000   \n",
       "\n",
       "       is_active_False  is_active_True  \n",
       "count     17974.000000    17974.000000  \n",
       "mean          0.000835        0.959497  \n",
       "std           0.028877        0.197141  \n",
       "min           0.000000        0.000000  \n",
       "25%           0.000000        1.000000  \n",
       "50%           0.000000        1.000000  \n",
       "75%           0.000000        1.000000  \n",
       "max           1.000000        1.000000  \n",
       "\n",
       "[8 rows x 22 columns]"
      ]
     },
     "execution_count": 24,
     "metadata": {},
     "output_type": "execute_result"
    }
   ],
   "source": [
    "# Calculate the summary statistics for users dataset\n",
    "user_summarystat = user_df.describe()\n",
    "user_summarystat"
   ]
  },
  {
   "cell_type": "code",
   "execution_count": 25,
   "id": "195c62d4",
   "metadata": {},
   "outputs": [
    {
     "data": {
      "text/html": [
       "<div>\n",
       "<style scoped>\n",
       "    .dataframe tbody tr th:only-of-type {\n",
       "        vertical-align: middle;\n",
       "    }\n",
       "\n",
       "    .dataframe tbody tr th {\n",
       "        vertical-align: top;\n",
       "    }\n",
       "\n",
       "    .dataframe thead th {\n",
       "        text-align: right;\n",
       "    }\n",
       "</style>\n",
       "<table border=\"1\" class=\"dataframe\">\n",
       "  <thead>\n",
       "    <tr style=\"text-align: right;\">\n",
       "      <th></th>\n",
       "      <th>song_id</th>\n",
       "      <th>downloads_count</th>\n",
       "      <th>user_id</th>\n",
       "      <th>no_likes</th>\n",
       "      <th>no_plays</th>\n",
       "      <th>pan</th>\n",
       "      <th>volume</th>\n",
       "      <th>state_complete</th>\n",
       "      <th>state_initial</th>\n",
       "      <th>state_work_in_progress</th>\n",
       "      <th>source_ios</th>\n",
       "      <th>source_web</th>\n",
       "      <th>Success</th>\n",
       "    </tr>\n",
       "  </thead>\n",
       "  <tbody>\n",
       "    <tr>\n",
       "      <th>count</th>\n",
       "      <td>29234.000000</td>\n",
       "      <td>29234.000000</td>\n",
       "      <td>29234.000000</td>\n",
       "      <td>29234.000000</td>\n",
       "      <td>29234.000000</td>\n",
       "      <td>29234.000000</td>\n",
       "      <td>29234.000000</td>\n",
       "      <td>29234.000000</td>\n",
       "      <td>29234.000000</td>\n",
       "      <td>29234.000000</td>\n",
       "      <td>29234.000000</td>\n",
       "      <td>29234.000000</td>\n",
       "      <td>29234.000000</td>\n",
       "    </tr>\n",
       "    <tr>\n",
       "      <th>mean</th>\n",
       "      <td>14731.234932</td>\n",
       "      <td>1.198639</td>\n",
       "      <td>6372.463501</td>\n",
       "      <td>0.149723</td>\n",
       "      <td>8.287645</td>\n",
       "      <td>-0.000289</td>\n",
       "      <td>0.799799</td>\n",
       "      <td>0.909113</td>\n",
       "      <td>0.000547</td>\n",
       "      <td>0.090340</td>\n",
       "      <td>0.884997</td>\n",
       "      <td>0.115003</td>\n",
       "      <td>0.260963</td>\n",
       "    </tr>\n",
       "    <tr>\n",
       "      <th>std</th>\n",
       "      <td>8558.303637</td>\n",
       "      <td>37.218293</td>\n",
       "      <td>5385.331932</td>\n",
       "      <td>0.925613</td>\n",
       "      <td>115.928308</td>\n",
       "      <td>0.029780</td>\n",
       "      <td>0.046139</td>\n",
       "      <td>0.287454</td>\n",
       "      <td>0.023389</td>\n",
       "      <td>0.286673</td>\n",
       "      <td>0.319031</td>\n",
       "      <td>0.319031</td>\n",
       "      <td>0.439167</td>\n",
       "    </tr>\n",
       "    <tr>\n",
       "      <th>min</th>\n",
       "      <td>1.000000</td>\n",
       "      <td>0.000000</td>\n",
       "      <td>1.000000</td>\n",
       "      <td>0.000000</td>\n",
       "      <td>0.000000</td>\n",
       "      <td>-1.000000</td>\n",
       "      <td>0.000000</td>\n",
       "      <td>0.000000</td>\n",
       "      <td>0.000000</td>\n",
       "      <td>0.000000</td>\n",
       "      <td>0.000000</td>\n",
       "      <td>0.000000</td>\n",
       "      <td>0.000000</td>\n",
       "    </tr>\n",
       "    <tr>\n",
       "      <th>25%</th>\n",
       "      <td>7318.250000</td>\n",
       "      <td>0.000000</td>\n",
       "      <td>1706.000000</td>\n",
       "      <td>0.000000</td>\n",
       "      <td>0.000000</td>\n",
       "      <td>0.000000</td>\n",
       "      <td>0.800000</td>\n",
       "      <td>1.000000</td>\n",
       "      <td>0.000000</td>\n",
       "      <td>0.000000</td>\n",
       "      <td>1.000000</td>\n",
       "      <td>0.000000</td>\n",
       "      <td>0.000000</td>\n",
       "    </tr>\n",
       "    <tr>\n",
       "      <th>50%</th>\n",
       "      <td>14629.500000</td>\n",
       "      <td>0.000000</td>\n",
       "      <td>4726.000000</td>\n",
       "      <td>0.000000</td>\n",
       "      <td>0.000000</td>\n",
       "      <td>0.000000</td>\n",
       "      <td>0.800000</td>\n",
       "      <td>1.000000</td>\n",
       "      <td>0.000000</td>\n",
       "      <td>0.000000</td>\n",
       "      <td>1.000000</td>\n",
       "      <td>0.000000</td>\n",
       "      <td>0.000000</td>\n",
       "    </tr>\n",
       "    <tr>\n",
       "      <th>75%</th>\n",
       "      <td>22154.750000</td>\n",
       "      <td>0.000000</td>\n",
       "      <td>10578.000000</td>\n",
       "      <td>0.000000</td>\n",
       "      <td>3.000000</td>\n",
       "      <td>0.000000</td>\n",
       "      <td>0.800000</td>\n",
       "      <td>1.000000</td>\n",
       "      <td>0.000000</td>\n",
       "      <td>0.000000</td>\n",
       "      <td>1.000000</td>\n",
       "      <td>0.000000</td>\n",
       "      <td>1.000000</td>\n",
       "    </tr>\n",
       "    <tr>\n",
       "      <th>max</th>\n",
       "      <td>29597.000000</td>\n",
       "      <td>4395.000000</td>\n",
       "      <td>18728.000000</td>\n",
       "      <td>45.000000</td>\n",
       "      <td>11624.000000</td>\n",
       "      <td>1.000000</td>\n",
       "      <td>1.000000</td>\n",
       "      <td>1.000000</td>\n",
       "      <td>1.000000</td>\n",
       "      <td>1.000000</td>\n",
       "      <td>1.000000</td>\n",
       "      <td>1.000000</td>\n",
       "      <td>1.000000</td>\n",
       "    </tr>\n",
       "  </tbody>\n",
       "</table>\n",
       "</div>"
      ],
      "text/plain": [
       "            song_id  downloads_count       user_id      no_likes  \\\n",
       "count  29234.000000     29234.000000  29234.000000  29234.000000   \n",
       "mean   14731.234932         1.198639   6372.463501      0.149723   \n",
       "std     8558.303637        37.218293   5385.331932      0.925613   \n",
       "min        1.000000         0.000000      1.000000      0.000000   \n",
       "25%     7318.250000         0.000000   1706.000000      0.000000   \n",
       "50%    14629.500000         0.000000   4726.000000      0.000000   \n",
       "75%    22154.750000         0.000000  10578.000000      0.000000   \n",
       "max    29597.000000      4395.000000  18728.000000     45.000000   \n",
       "\n",
       "           no_plays           pan        volume  state_complete  \\\n",
       "count  29234.000000  29234.000000  29234.000000    29234.000000   \n",
       "mean       8.287645     -0.000289      0.799799        0.909113   \n",
       "std      115.928308      0.029780      0.046139        0.287454   \n",
       "min        0.000000     -1.000000      0.000000        0.000000   \n",
       "25%        0.000000      0.000000      0.800000        1.000000   \n",
       "50%        0.000000      0.000000      0.800000        1.000000   \n",
       "75%        3.000000      0.000000      0.800000        1.000000   \n",
       "max    11624.000000      1.000000      1.000000        1.000000   \n",
       "\n",
       "       state_initial  state_work_in_progress    source_ios    source_web  \\\n",
       "count   29234.000000            29234.000000  29234.000000  29234.000000   \n",
       "mean        0.000547                0.090340      0.884997      0.115003   \n",
       "std         0.023389                0.286673      0.319031      0.319031   \n",
       "min         0.000000                0.000000      0.000000      0.000000   \n",
       "25%         0.000000                0.000000      1.000000      0.000000   \n",
       "50%         0.000000                0.000000      1.000000      0.000000   \n",
       "75%         0.000000                0.000000      1.000000      0.000000   \n",
       "max         1.000000                1.000000      1.000000      1.000000   \n",
       "\n",
       "            Success  \n",
       "count  29234.000000  \n",
       "mean       0.260963  \n",
       "std        0.439167  \n",
       "min        0.000000  \n",
       "25%        0.000000  \n",
       "50%        0.000000  \n",
       "75%        1.000000  \n",
       "max        1.000000  "
      ]
     },
     "execution_count": 25,
     "metadata": {},
     "output_type": "execute_result"
    }
   ],
   "source": [
    "# Summary statistics about song dataset\n",
    "song_summarystat = song_df.describe()\n",
    "song_summarystat"
   ]
  },
  {
   "cell_type": "markdown",
   "id": "32926ed0",
   "metadata": {},
   "source": [
    "## Data Visualisations"
   ]
  },
  {
   "cell_type": "markdown",
   "id": "097f756a",
   "metadata": {},
   "source": [
    "Several figures are plotted in this section to provide a visual representations of the variables in the relevant datasets."
   ]
  },
  {
   "cell_type": "markdown",
   "id": "7a6fa657",
   "metadata": {},
   "source": [
    "### User Demographics"
   ]
  },
  {
   "cell_type": "markdown",
   "id": "03eda3e0",
   "metadata": {},
   "source": [
    "The distribution of the music platform's users based on gender, location and profession are visualised in this section."
   ]
  },
  {
   "cell_type": "markdown",
   "id": "9678037e",
   "metadata": {},
   "source": [
    "### A. Gender Distribution"
   ]
  },
  {
   "cell_type": "markdown",
   "id": "f75a49e6",
   "metadata": {},
   "source": [
    "Out of 17,974 users, only 9,701 users specified their profile."
   ]
  },
  {
   "cell_type": "code",
   "execution_count": 26,
   "id": "c16db211",
   "metadata": {},
   "outputs": [
    {
     "data": {
      "text/plain": [
       "([<matplotlib.patches.Wedge at 0x7f980ddeb880>,\n",
       "  <matplotlib.patches.Wedge at 0x7f980ddf4e50>],\n",
       " [Text(-0.9994620722791617, 0.45942960948924916, 'Female'),\n",
       "  Text(0.9994620722791618, -0.4594296094892488, 'Male')],\n",
       " [Text(-0.5451611303340882, 0.25059796881231766, '36.3%'),\n",
       "  Text(0.5451611303340882, -0.2505979688123175, '63.7%')])"
      ]
     },
     "execution_count": 26,
     "metadata": {},
     "output_type": "execute_result"
    },
    {
     "data": {
      "text/plain": [
       "(-1.118164435539132,\n",
       " 1.110538698166724,\n",
       " -1.1142682514931876,\n",
       " 1.1006794405472946)"
      ]
     },
     "execution_count": 26,
     "metadata": {},
     "output_type": "execute_result"
    },
    {
     "data": {
      "text/plain": [
       "Text(0.5, 1.0, 'Gender Distribution of Users on the platform')"
      ]
     },
     "execution_count": 26,
     "metadata": {},
     "output_type": "execute_result"
    },
    {
     "data": {
      "text/plain": [
       "<matplotlib.legend.Legend at 0x7f980e0ad0d0>"
      ]
     },
     "execution_count": 26,
     "metadata": {},
     "output_type": "execute_result"
    },
    {
     "data": {
      "image/png": "[encoded data removed]",
      "text/plain": [
       "<Figure size 432x288 with 1 Axes>"
      ]
     },
     "metadata": {},
     "output_type": "display_data"
    }
   ],
   "source": [
    "# Demographics based on gender\n",
    "gender_distribution = user_df[['gender_female', 'gender_male']].sum()\n",
    "\n",
    "# Pie chart customisation\n",
    "labels = ['Female', 'Male']\n",
    "colors = ['gray','lightblue']\n",
    "\n",
    "# Pie - chart plot\n",
    "# Plot the gender distribution\n",
    "fig, ax = plt.subplots()\n",
    "ax.pie(gender_distribution, labels = labels, colors = colors, autopct='%1.1f%%', startangle = 90)\n",
    "ax.axis('equal')\n",
    "\n",
    "# Title and Legend\n",
    "ax.set_title('Gender Distribution of Users on the platform')\n",
    "ax.legend(title = 'Gender',\n",
    "         loc = 'upper right')\n",
    "\n",
    "plt.show()"
   ]
  },
  {
   "cell_type": "code",
   "execution_count": 27,
   "id": "64f6df74",
   "metadata": {},
   "outputs": [
    {
     "data": {
      "text/plain": [
       "gender_female    3520\n",
       "gender_male      6181\n",
       "dtype: int64"
      ]
     },
     "execution_count": 27,
     "metadata": {},
     "output_type": "execute_result"
    }
   ],
   "source": [
    "gender_distribution"
   ]
  },
  {
   "cell_type": "markdown",
   "id": "a76c0217",
   "metadata": {},
   "source": [
    "Findings: From the graph, the proportion of male users on the platform is almost double that of female users. "
   ]
  },
  {
   "cell_type": "markdown",
   "id": "cae9d650",
   "metadata": {},
   "source": [
    "### B. Occupation"
   ]
  },
  {
   "cell_type": "code",
   "execution_count": 28,
   "id": "bd05125b",
   "metadata": {},
   "outputs": [
    {
     "data": {
      "text/plain": [
       "<AxesSubplot:>"
      ]
     },
     "execution_count": 28,
     "metadata": {},
     "output_type": "execute_result"
    },
    {
     "data": {
      "text/plain": [
       "Text(0.5, 1.0, '15 Most Popular Professions of Users on the music platform')"
      ]
     },
     "execution_count": 28,
     "metadata": {},
     "output_type": "execute_result"
    },
    {
     "data": {
      "text/plain": [
       "Text(0.5, 0, 'Number of users')"
      ]
     },
     "execution_count": 28,
     "metadata": {},
     "output_type": "execute_result"
    },
    {
     "data": {
      "text/plain": [
       "Text(0, 0.5, 'Job type')"
      ]
     },
     "execution_count": 28,
     "metadata": {},
     "output_type": "execute_result"
    },
    {
     "data": {
      "image/png": "[encoded data removed]",
      "text/plain": [
       "<Figure size 432x288 with 1 Axes>"
      ]
     },
     "metadata": {
      "needs_background": "light"
     },
     "output_type": "display_data"
    }
   ],
   "source": [
    "# Based on Occupation\n",
    "\n",
    "# Filter out all the unknowns from the occupation column and count for each job type\n",
    "filtered_df = user_df[user_df['occupation'] != 'Unknown']\n",
    "job_counts = filtered_df['occupation'].value_counts()\n",
    "\n",
    "# 15 most popular occupations\n",
    "top_jobs = job_counts.head(10)\n",
    "\n",
    "# Create a bar chart of the type proportions\n",
    "\n",
    "top_jobs.plot(kind='barh', align='center')\n",
    "plt.title('15 Most Popular Professions of Users on the music platform')\n",
    "plt.xlabel('Number of users')\n",
    "plt.ylabel('Job type')\n",
    "plt.show()\n"
   ]
  },
  {
   "cell_type": "markdown",
   "id": "c310fd9a",
   "metadata": {},
   "source": [
    "Finding: Most users are individuals in the music industry. Does this mean there are more creators on the platform than listeners?"
   ]
  },
  {
   "cell_type": "markdown",
   "id": "f0bd00ec",
   "metadata": {},
   "source": [
    "### User Location Distribution"
   ]
  },
  {
   "cell_type": "code",
   "execution_count": 29,
   "id": "1ace8474",
   "metadata": {},
   "outputs": [
    {
     "name": "stderr",
     "output_type": "stream",
     "text": [
      "/var/folders/34/r1qq3xjj39l1mlwm2grbxj_c0000gn/T/ipykernel_2861/4088025635.py:6: SettingWithCopyWarning: \n",
      "A value is trying to be set on a copy of a slice from a DataFrame.\n",
      "Try using .loc[row_indexer,col_indexer] = value instead\n",
      "\n",
      "See the caveats in the documentation: https://pandas.pydata.org/pandas-docs/stable/user_guide/indexing.html#returning-a-view-versus-a-copy\n",
      "  filtered_location['country_name'] = filtered_location['country_name'].replace('United States','United States of America')\n"
     ]
    },
    {
     "data": {
      "text/html": [
       "<div>\n",
       "<style scoped>\n",
       "    .dataframe tbody tr th:only-of-type {\n",
       "        vertical-align: middle;\n",
       "    }\n",
       "\n",
       "    .dataframe tbody tr th {\n",
       "        vertical-align: top;\n",
       "    }\n",
       "\n",
       "    .dataframe thead th {\n",
       "        text-align: right;\n",
       "    }\n",
       "</style>\n",
       "<table border=\"1\" class=\"dataframe\">\n",
       "  <thead>\n",
       "    <tr style=\"text-align: right;\">\n",
       "      <th></th>\n",
       "      <th>pop_est</th>\n",
       "      <th>continent</th>\n",
       "      <th>name</th>\n",
       "      <th>iso_a3</th>\n",
       "      <th>gdp_md_est</th>\n",
       "      <th>geometry</th>\n",
       "    </tr>\n",
       "  </thead>\n",
       "  <tbody>\n",
       "    <tr>\n",
       "      <th>0</th>\n",
       "      <td>889953.0</td>\n",
       "      <td>Oceania</td>\n",
       "      <td>Fiji</td>\n",
       "      <td>FJI</td>\n",
       "      <td>5496</td>\n",
       "      <td>MULTIPOLYGON (((180.00000 -16.06713, 180.00000...</td>\n",
       "    </tr>\n",
       "    <tr>\n",
       "      <th>1</th>\n",
       "      <td>58005463.0</td>\n",
       "      <td>Africa</td>\n",
       "      <td>Tanzania</td>\n",
       "      <td>TZA</td>\n",
       "      <td>63177</td>\n",
       "      <td>POLYGON ((33.90371 -0.95000, 34.07262 -1.05982...</td>\n",
       "    </tr>\n",
       "    <tr>\n",
       "      <th>2</th>\n",
       "      <td>603253.0</td>\n",
       "      <td>Africa</td>\n",
       "      <td>W. Sahara</td>\n",
       "      <td>ESH</td>\n",
       "      <td>907</td>\n",
       "      <td>POLYGON ((-8.66559 27.65643, -8.66512 27.58948...</td>\n",
       "    </tr>\n",
       "    <tr>\n",
       "      <th>3</th>\n",
       "      <td>37589262.0</td>\n",
       "      <td>North America</td>\n",
       "      <td>Canada</td>\n",
       "      <td>CAN</td>\n",
       "      <td>1736425</td>\n",
       "      <td>MULTIPOLYGON (((-122.84000 49.00000, -122.9742...</td>\n",
       "    </tr>\n",
       "    <tr>\n",
       "      <th>4</th>\n",
       "      <td>328239523.0</td>\n",
       "      <td>North America</td>\n",
       "      <td>United States of America</td>\n",
       "      <td>USA</td>\n",
       "      <td>21433226</td>\n",
       "      <td>MULTIPOLYGON (((-122.84000 49.00000, -120.0000...</td>\n",
       "    </tr>\n",
       "    <tr>\n",
       "      <th>...</th>\n",
       "      <td>...</td>\n",
       "      <td>...</td>\n",
       "      <td>...</td>\n",
       "      <td>...</td>\n",
       "      <td>...</td>\n",
       "      <td>...</td>\n",
       "    </tr>\n",
       "    <tr>\n",
       "      <th>172</th>\n",
       "      <td>6944975.0</td>\n",
       "      <td>Europe</td>\n",
       "      <td>Serbia</td>\n",
       "      <td>SRB</td>\n",
       "      <td>51475</td>\n",
       "      <td>POLYGON ((18.82982 45.90887, 18.82984 45.90888...</td>\n",
       "    </tr>\n",
       "    <tr>\n",
       "      <th>173</th>\n",
       "      <td>622137.0</td>\n",
       "      <td>Europe</td>\n",
       "      <td>Montenegro</td>\n",
       "      <td>MNE</td>\n",
       "      <td>5542</td>\n",
       "      <td>POLYGON ((20.07070 42.58863, 19.80161 42.50009...</td>\n",
       "    </tr>\n",
       "    <tr>\n",
       "      <th>174</th>\n",
       "      <td>1794248.0</td>\n",
       "      <td>Europe</td>\n",
       "      <td>Kosovo</td>\n",
       "      <td>-99</td>\n",
       "      <td>7926</td>\n",
       "      <td>POLYGON ((20.59025 41.85541, 20.52295 42.21787...</td>\n",
       "    </tr>\n",
       "    <tr>\n",
       "      <th>175</th>\n",
       "      <td>1394973.0</td>\n",
       "      <td>North America</td>\n",
       "      <td>Trinidad and Tobago</td>\n",
       "      <td>TTO</td>\n",
       "      <td>24269</td>\n",
       "      <td>POLYGON ((-61.68000 10.76000, -61.10500 10.890...</td>\n",
       "    </tr>\n",
       "    <tr>\n",
       "      <th>176</th>\n",
       "      <td>11062113.0</td>\n",
       "      <td>Africa</td>\n",
       "      <td>S. Sudan</td>\n",
       "      <td>SSD</td>\n",
       "      <td>11998</td>\n",
       "      <td>POLYGON ((30.83385 3.50917, 29.95350 4.17370, ...</td>\n",
       "    </tr>\n",
       "  </tbody>\n",
       "</table>\n",
       "<p>177 rows × 6 columns</p>\n",
       "</div>"
      ],
      "text/plain": [
       "         pop_est      continent                      name iso_a3  gdp_md_est  \\\n",
       "0       889953.0        Oceania                      Fiji    FJI        5496   \n",
       "1     58005463.0         Africa                  Tanzania    TZA       63177   \n",
       "2       603253.0         Africa                 W. Sahara    ESH         907   \n",
       "3     37589262.0  North America                    Canada    CAN     1736425   \n",
       "4    328239523.0  North America  United States of America    USA    21433226   \n",
       "..           ...            ...                       ...    ...         ...   \n",
       "172    6944975.0         Europe                    Serbia    SRB       51475   \n",
       "173     622137.0         Europe                Montenegro    MNE        5542   \n",
       "174    1794248.0         Europe                    Kosovo    -99        7926   \n",
       "175    1394973.0  North America       Trinidad and Tobago    TTO       24269   \n",
       "176   11062113.0         Africa                  S. Sudan    SSD       11998   \n",
       "\n",
       "                                              geometry  \n",
       "0    MULTIPOLYGON (((180.00000 -16.06713, 180.00000...  \n",
       "1    POLYGON ((33.90371 -0.95000, 34.07262 -1.05982...  \n",
       "2    POLYGON ((-8.66559 27.65643, -8.66512 27.58948...  \n",
       "3    MULTIPOLYGON (((-122.84000 49.00000, -122.9742...  \n",
       "4    MULTIPOLYGON (((-122.84000 49.00000, -120.0000...  \n",
       "..                                                 ...  \n",
       "172  POLYGON ((18.82982 45.90887, 18.82984 45.90888...  \n",
       "173  POLYGON ((20.07070 42.58863, 19.80161 42.50009...  \n",
       "174  POLYGON ((20.59025 41.85541, 20.52295 42.21787...  \n",
       "175  POLYGON ((-61.68000 10.76000, -61.10500 10.890...  \n",
       "176  POLYGON ((30.83385 3.50917, 29.95350 4.17370, ...  \n",
       "\n",
       "[177 rows x 6 columns]"
      ]
     },
     "execution_count": 29,
     "metadata": {},
     "output_type": "execute_result"
    },
    {
     "data": {
      "text/plain": [
       "United States of America    1177\n",
       "United Kingdom               976\n",
       "Canada                       122\n",
       "Australia                    105\n",
       "India                         40\n",
       "                            ... \n",
       "China                          1\n",
       "Panama                         1\n",
       "Greece                         1\n",
       "South Korea                    1\n",
       "Colombia                       1\n",
       "Name: country_name, Length: 68, dtype: int64"
      ]
     },
     "execution_count": 29,
     "metadata": {},
     "output_type": "execute_result"
    },
    {
     "data": {
      "text/html": [
       "<div>\n",
       "<style scoped>\n",
       "    .dataframe tbody tr th:only-of-type {\n",
       "        vertical-align: middle;\n",
       "    }\n",
       "\n",
       "    .dataframe tbody tr th {\n",
       "        vertical-align: top;\n",
       "    }\n",
       "\n",
       "    .dataframe thead th {\n",
       "        text-align: right;\n",
       "    }\n",
       "</style>\n",
       "<table border=\"1\" class=\"dataframe\">\n",
       "  <thead>\n",
       "    <tr style=\"text-align: right;\">\n",
       "      <th></th>\n",
       "      <th>pop_est</th>\n",
       "      <th>continent</th>\n",
       "      <th>name</th>\n",
       "      <th>iso_a3</th>\n",
       "      <th>gdp_md_est</th>\n",
       "      <th>geometry</th>\n",
       "      <th>country_name</th>\n",
       "    </tr>\n",
       "  </thead>\n",
       "  <tbody>\n",
       "    <tr>\n",
       "      <th>3</th>\n",
       "      <td>37589262.0</td>\n",
       "      <td>North America</td>\n",
       "      <td>Canada</td>\n",
       "      <td>CAN</td>\n",
       "      <td>1736425</td>\n",
       "      <td>MULTIPOLYGON (((-122.84000 49.00000, -122.9742...</td>\n",
       "      <td>122</td>\n",
       "    </tr>\n",
       "    <tr>\n",
       "      <th>4</th>\n",
       "      <td>328239523.0</td>\n",
       "      <td>North America</td>\n",
       "      <td>United States of America</td>\n",
       "      <td>USA</td>\n",
       "      <td>21433226</td>\n",
       "      <td>MULTIPOLYGON (((-122.84000 49.00000, -120.0000...</td>\n",
       "      <td>1177</td>\n",
       "    </tr>\n",
       "    <tr>\n",
       "      <th>5</th>\n",
       "      <td>18513930.0</td>\n",
       "      <td>Asia</td>\n",
       "      <td>Kazakhstan</td>\n",
       "      <td>KAZ</td>\n",
       "      <td>181665</td>\n",
       "      <td>POLYGON ((87.35997 49.21498, 86.59878 48.54918...</td>\n",
       "      <td>1</td>\n",
       "    </tr>\n",
       "    <tr>\n",
       "      <th>8</th>\n",
       "      <td>270625568.0</td>\n",
       "      <td>Asia</td>\n",
       "      <td>Indonesia</td>\n",
       "      <td>IDN</td>\n",
       "      <td>1119190</td>\n",
       "      <td>MULTIPOLYGON (((141.00021 -2.60015, 141.01706 ...</td>\n",
       "      <td>1</td>\n",
       "    </tr>\n",
       "    <tr>\n",
       "      <th>13</th>\n",
       "      <td>52573973.0</td>\n",
       "      <td>Africa</td>\n",
       "      <td>Kenya</td>\n",
       "      <td>KEN</td>\n",
       "      <td>95503</td>\n",
       "      <td>POLYGON ((39.20222 -4.67677, 37.76690 -3.67712...</td>\n",
       "      <td>1</td>\n",
       "    </tr>\n",
       "    <tr>\n",
       "      <th>...</th>\n",
       "      <td>...</td>\n",
       "      <td>...</td>\n",
       "      <td>...</td>\n",
       "      <td>...</td>\n",
       "      <td>...</td>\n",
       "      <td>...</td>\n",
       "      <td>...</td>\n",
       "    </tr>\n",
       "    <tr>\n",
       "      <th>150</th>\n",
       "      <td>2087946.0</td>\n",
       "      <td>Europe</td>\n",
       "      <td>Slovenia</td>\n",
       "      <td>SVN</td>\n",
       "      <td>54174</td>\n",
       "      <td>POLYGON ((13.80648 46.50931, 14.63247 46.43182...</td>\n",
       "      <td>2</td>\n",
       "    </tr>\n",
       "    <tr>\n",
       "      <th>151</th>\n",
       "      <td>5520314.0</td>\n",
       "      <td>Europe</td>\n",
       "      <td>Finland</td>\n",
       "      <td>FIN</td>\n",
       "      <td>269296</td>\n",
       "      <td>POLYGON ((28.59193 69.06478, 28.44594 68.36461...</td>\n",
       "      <td>1</td>\n",
       "    </tr>\n",
       "    <tr>\n",
       "      <th>155</th>\n",
       "      <td>126264931.0</td>\n",
       "      <td>Asia</td>\n",
       "      <td>Japan</td>\n",
       "      <td>JPN</td>\n",
       "      <td>5081769</td>\n",
       "      <td>MULTIPOLYGON (((141.88460 39.18086, 140.95949 ...</td>\n",
       "      <td>4</td>\n",
       "    </tr>\n",
       "    <tr>\n",
       "      <th>161</th>\n",
       "      <td>1198575.0</td>\n",
       "      <td>Asia</td>\n",
       "      <td>Cyprus</td>\n",
       "      <td>CYP</td>\n",
       "      <td>24948</td>\n",
       "      <td>POLYGON ((32.73178 35.14003, 32.91957 35.08783...</td>\n",
       "      <td>2</td>\n",
       "    </tr>\n",
       "    <tr>\n",
       "      <th>168</th>\n",
       "      <td>44269594.0</td>\n",
       "      <td>Africa</td>\n",
       "      <td>Uganda</td>\n",
       "      <td>UGA</td>\n",
       "      <td>35165</td>\n",
       "      <td>POLYGON ((33.90371 -0.95000, 31.86617 -1.02736...</td>\n",
       "      <td>2</td>\n",
       "    </tr>\n",
       "  </tbody>\n",
       "</table>\n",
       "<p>63 rows × 7 columns</p>\n",
       "</div>"
      ],
      "text/plain": [
       "         pop_est      continent                      name iso_a3  gdp_md_est  \\\n",
       "3     37589262.0  North America                    Canada    CAN     1736425   \n",
       "4    328239523.0  North America  United States of America    USA    21433226   \n",
       "5     18513930.0           Asia                Kazakhstan    KAZ      181665   \n",
       "8    270625568.0           Asia                 Indonesia    IDN     1119190   \n",
       "13    52573973.0         Africa                     Kenya    KEN       95503   \n",
       "..           ...            ...                       ...    ...         ...   \n",
       "150    2087946.0         Europe                  Slovenia    SVN       54174   \n",
       "151    5520314.0         Europe                   Finland    FIN      269296   \n",
       "155  126264931.0           Asia                     Japan    JPN     5081769   \n",
       "161    1198575.0           Asia                    Cyprus    CYP       24948   \n",
       "168   44269594.0         Africa                    Uganda    UGA       35165   \n",
       "\n",
       "                                              geometry  country_name  \n",
       "3    MULTIPOLYGON (((-122.84000 49.00000, -122.9742...           122  \n",
       "4    MULTIPOLYGON (((-122.84000 49.00000, -120.0000...          1177  \n",
       "5    POLYGON ((87.35997 49.21498, 86.59878 48.54918...             1  \n",
       "8    MULTIPOLYGON (((141.00021 -2.60015, 141.01706 ...             1  \n",
       "13   POLYGON ((39.20222 -4.67677, 37.76690 -3.67712...             1  \n",
       "..                                                 ...           ...  \n",
       "150  POLYGON ((13.80648 46.50931, 14.63247 46.43182...             2  \n",
       "151  POLYGON ((28.59193 69.06478, 28.44594 68.36461...             1  \n",
       "155  MULTIPOLYGON (((141.88460 39.18086, 140.95949 ...             4  \n",
       "161  POLYGON ((32.73178 35.14003, 32.91957 35.08783...             2  \n",
       "168  POLYGON ((33.90371 -0.95000, 31.86617 -1.02736...             2  \n",
       "\n",
       "[63 rows x 7 columns]"
      ]
     },
     "execution_count": 29,
     "metadata": {},
     "output_type": "execute_result"
    }
   ],
   "source": [
    "# Based on Location\n",
    "import geopandas as gpd\n",
    "\n",
    "# Filter out all the unknowns from the location column and count for each country\n",
    "filtered_location = user_df[user_df['country_name'] != 'Unknown']\n",
    "filtered_location['country_name'] = filtered_location['country_name'].replace('United States','United States of America')\n",
    "\n",
    "# Load country shapefile\n",
    "world_map = gpd.read_file(gpd.datasets.get_path('naturalearth_lowres'))\n",
    "world_map\n",
    "\n",
    "# Count users by country\n",
    "country_counts = filtered_location['country_name'].value_counts()\n",
    "country_counts\n",
    "\n",
    "# Merge country counts with shapefile\n",
    "world = world_map.merge(country_counts, left_on='name', right_index=True)\n",
    "world"
   ]
  },
  {
   "cell_type": "code",
   "execution_count": 30,
   "id": "19bd05d5",
   "metadata": {},
   "outputs": [
    {
     "data": {
      "text/plain": [
       "<folium.features.Choropleth at 0x7f98115b4dc0>"
      ]
     },
     "execution_count": 30,
     "metadata": {},
     "output_type": "execute_result"
    }
   ],
   "source": [
    "# using folium for a more interactive map - reference\n",
    "import folium\n",
    "\n",
    "# Create a map\n",
    "my_map = folium.Map()\n",
    "\n",
    "# Add the data\n",
    "folium.Choropleth(\n",
    "    geo_data=world,\n",
    "    data=world,\n",
    "    name='choropleth',\n",
    "    columns=['name', 'country_name'],\n",
    "    key_on='feature.properties.name',\n",
    "    fill_color='OrRd',\n",
    "    fill_opacity=0.5,\n",
    "    line_opacity=0.2,\n",
    "    legend_name='Total Number of Users per country'\n",
    ").add_to(my_map)\n",
    "my_map.save('User_Locations.html')\n"
   ]
  },
  {
   "cell_type": "markdown",
   "id": "38bb2a0f",
   "metadata": {},
   "source": [
    "### User Profile Classification"
   ]
  },
  {
   "cell_type": "markdown",
   "id": "3e3ac157",
   "metadata": {},
   "source": [
    "Users of the music platform are classified based on the roles they assume on the platform. Each user is in more than one class."
   ]
  },
  {
   "cell_type": "code",
   "execution_count": 31,
   "id": "06bd490a",
   "metadata": {},
   "outputs": [
    {
     "data": {
      "text/plain": [
       "musician      4127\n",
       "singer        3660\n",
       "songwriter    3499\n",
       "producer      1804\n",
       "lyricist       369\n",
       "Name: userclassifications_name, dtype: int64"
      ]
     },
     "execution_count": 31,
     "metadata": {},
     "output_type": "execute_result"
    }
   ],
   "source": [
    "class_counts = rough_df['userclassifications_name'].value_counts()\n",
    "class_counts"
   ]
  },
  {
   "cell_type": "code",
   "execution_count": 32,
   "id": "cdfcc7bb",
   "metadata": {},
   "outputs": [
    {
     "data": {
      "text/plain": [
       "<BarContainer object of 5 artists>"
      ]
     },
     "execution_count": 32,
     "metadata": {},
     "output_type": "execute_result"
    },
    {
     "data": {
      "text/plain": [
       "Text(0.5, 0, 'Class')"
      ]
     },
     "execution_count": 32,
     "metadata": {},
     "output_type": "execute_result"
    },
    {
     "data": {
      "text/plain": [
       "Text(0, 0.5, 'Proportion')"
      ]
     },
     "execution_count": 32,
     "metadata": {},
     "output_type": "execute_result"
    },
    {
     "data": {
      "text/plain": [
       "Text(0.5, 1.0, 'User Profile Classification')"
      ]
     },
     "execution_count": 32,
     "metadata": {},
     "output_type": "execute_result"
    },
    {
     "data": {
      "image/png": "[encoded data removed]",
      "text/plain": [
       "<Figure size 432x288 with 1 Axes>"
      ]
     },
     "metadata": {
      "needs_background": "light"
     },
     "output_type": "display_data"
    },
    {
     "data": {
      "text/plain": [
       "([<matplotlib.patches.Wedge at 0x7f9813ed8490>,\n",
       "  <matplotlib.patches.Wedge at 0x7f9813ed8a90>,\n",
       "  <matplotlib.patches.Wedge at 0x7f9813ee6190>,\n",
       "  <matplotlib.patches.Wedge at 0x7f9813ee68b0>,\n",
       "  <matplotlib.patches.Wedge at 0x7f9813ee6eb0>],\n",
       " [Text(0.6278748877039518, 0.9032015973141047, 'musician'),\n",
       "  Text(-1.0292409953774135, 0.38815328600246485, 'singer'),\n",
       "  Text(-0.283191781244268, -1.0629216410609479, 'songwriter'),\n",
       "  Text(0.9119781217635875, -0.6150576439851465, 'producer'),\n",
       "  Text(1.0959222617318514, -0.09462767164283353, 'lyricist')],\n",
       " [Text(0.34247721147488275, 0.4926554167167843, '30.7%'),\n",
       "  Text(-0.561404179296771, 0.21171997418316263, '27.2%'),\n",
       "  Text(-0.15446824431505526, -0.5797754405786988, '26.0%'),\n",
       "  Text(0.49744261187104766, -0.3354859876282617, '13.4%'),\n",
       "  Text(0.5977757791264643, -0.051615093623363736, '2.7%')])"
      ]
     },
     "execution_count": 32,
     "metadata": {},
     "output_type": "execute_result"
    },
    {
     "data": {
      "text/plain": [
       "Text(0.5, 1.0, 'User Profile Classification')"
      ]
     },
     "execution_count": 32,
     "metadata": {},
     "output_type": "execute_result"
    },
    {
     "data": {
      "image/png": "[encoded data removed]",
      "text/plain": [
       "<Figure size 432x288 with 1 Axes>"
      ]
     },
     "metadata": {},
     "output_type": "display_data"
    }
   ],
   "source": [
    "# Calculate the proportions for each class\n",
    "total_users = rough_df['user_id'].nunique()\n",
    "class_proportions = class_counts / total_users\n",
    "\n",
    "# Create a bar chart of the class proportions\n",
    "plt.bar(class_proportions.index, class_proportions.values)\n",
    "plt.xlabel('Class')\n",
    "plt.ylabel('Proportion')\n",
    "plt.title('User Profile Classification')\n",
    "plt.show()\n",
    "\n",
    "# Plot the proportions for each class group\n",
    "plt.pie(class_proportions, labels = class_counts.index , autopct='%1.1f%%')\n",
    "plt.title('User Profile Classification')\n",
    "plt.show()"
   ]
  },
  {
   "cell_type": "markdown",
   "id": "9e385edf",
   "metadata": {},
   "source": [
    "Findings - Musicians, singers and songwriters are within the same range and considered as the majority classes on the platform. However, lyricists are comparatively lacking."
   ]
  },
  {
   "cell_type": "markdown",
   "id": "7d8888ae",
   "metadata": {},
   "source": [
    "# User and Song Engagement"
   ]
  },
  {
   "cell_type": "markdown",
   "id": "a5afd038",
   "metadata": {},
   "source": [
    "This section reviews factors that speak to user behaviour on the platform. These factors include number of likes, plays and downloads per user and song"
   ]
  },
  {
   "cell_type": "markdown",
   "id": "7127bd64",
   "metadata": {},
   "source": [
    "### A. Upload Platform and Engagement\n"
   ]
  },
  {
   "cell_type": "markdown",
   "id": "b5c30b7c",
   "metadata": {},
   "source": [
    "There are two platforms that artists can use to upload their songs - IOS and web."
   ]
  },
  {
   "cell_type": "code",
   "execution_count": 33,
   "id": "115fd37b",
   "metadata": {},
   "outputs": [
    {
     "data": {
      "text/plain": [
       "source_ios    25872\n",
       "source_web     3362\n",
       "dtype: int64"
      ]
     },
     "execution_count": 33,
     "metadata": {},
     "output_type": "execute_result"
    }
   ],
   "source": [
    "platform_count = song_df[['source_ios', 'source_web']].sum()\n",
    "platform_count"
   ]
  },
  {
   "cell_type": "code",
   "execution_count": 34,
   "id": "c5049859",
   "metadata": {},
   "outputs": [],
   "source": [
    "# To get a merged column\n",
    "sliced = song_df\n",
    "sliced['upload_source'] = ''\n",
    "sliced.loc[sliced['source_ios'] == 1, 'upload_source'] = 'iOS'\n",
    "sliced.loc[sliced['source_web'] == 1, 'upload_source'] = 'Web'"
   ]
  },
  {
   "cell_type": "code",
   "execution_count": 35,
   "id": "93450c7a",
   "metadata": {},
   "outputs": [
    {
     "data": {
      "text/plain": [
       "<seaborn.axisgrid.FacetGrid at 0x7f980e666730>"
      ]
     },
     "execution_count": 35,
     "metadata": {},
     "output_type": "execute_result"
    },
    {
     "data": {
      "image/png": "[encoded data removed]",
      "text/plain": [
       "<Figure size 440.125x360 with 1 Axes>"
      ]
     },
     "metadata": {
      "needs_background": "light"
     },
     "output_type": "display_data"
    }
   ],
   "source": [
    "# Group the data by upload platform and compute the average engagement metrics\n",
    "source_group = sliced.groupby('upload_source')[['no_plays', 'no_likes']].mean().reset_index()\n",
    "\n",
    "# Melt the data to create a long format suitable for plotting\n",
    "melted_data = pd.melt(source_group, id_vars=['upload_source'], var_name='metric', value_name='value')\n",
    "\n",
    "# Create the grouped bar chart\n",
    "sns.catplot(x='metric', y='value', hue='upload_source', data=melted_data, kind='bar')"
   ]
  },
  {
   "cell_type": "markdown",
   "id": "29bbe1f5",
   "metadata": {},
   "source": [
    "Finding: Songs that were uploaded through an iOS device has way more number of plays than those uploaded through the web. This may be because more songs were uploaded using iOS than through the web."
   ]
  },
  {
   "cell_type": "markdown",
   "id": "dd0462ff",
   "metadata": {},
   "source": [
    "# Top Performers based on Number of Plays"
   ]
  },
  {
   "cell_type": "markdown",
   "id": "6aab4a9c",
   "metadata": {},
   "source": [
    "This section aims to visualize the top 10 users and genres that are the most listened to on the platform."
   ]
  },
  {
   "cell_type": "markdown",
   "id": "32622684",
   "metadata": {},
   "source": [
    "### Most Listened to Genres"
   ]
  },
  {
   "cell_type": "markdown",
   "id": "f71917fe",
   "metadata": {},
   "source": [
    "There is a total of 158 genres identified. Among these, it is crucial to find out the ones that are most popular amongst the users based on number of plays."
   ]
  },
  {
   "cell_type": "code",
   "execution_count": 36,
   "id": "5f77a056",
   "metadata": {},
   "outputs": [
    {
     "data": {
      "text/html": [
       "<div>\n",
       "<style scoped>\n",
       "    .dataframe tbody tr th:only-of-type {\n",
       "        vertical-align: middle;\n",
       "    }\n",
       "\n",
       "    .dataframe tbody tr th {\n",
       "        vertical-align: top;\n",
       "    }\n",
       "\n",
       "    .dataframe thead th {\n",
       "        text-align: right;\n",
       "    }\n",
       "</style>\n",
       "<table border=\"1\" class=\"dataframe\">\n",
       "  <thead>\n",
       "    <tr style=\"text-align: right;\">\n",
       "      <th></th>\n",
       "      <th>genre_id</th>\n",
       "      <th>genre_name</th>\n",
       "    </tr>\n",
       "  </thead>\n",
       "  <tbody>\n",
       "    <tr>\n",
       "      <th>0</th>\n",
       "      <td>1</td>\n",
       "      <td>Drums</td>\n",
       "    </tr>\n",
       "    <tr>\n",
       "      <th>1</th>\n",
       "      <td>2</td>\n",
       "      <td>Keys</td>\n",
       "    </tr>\n",
       "    <tr>\n",
       "      <th>2</th>\n",
       "      <td>3</td>\n",
       "      <td>Guitar</td>\n",
       "    </tr>\n",
       "    <tr>\n",
       "      <th>3</th>\n",
       "      <td>4</td>\n",
       "      <td>Rock</td>\n",
       "    </tr>\n",
       "    <tr>\n",
       "      <th>4</th>\n",
       "      <td>5</td>\n",
       "      <td>Trance</td>\n",
       "    </tr>\n",
       "    <tr>\n",
       "      <th>...</th>\n",
       "      <td>...</td>\n",
       "      <td>...</td>\n",
       "    </tr>\n",
       "    <tr>\n",
       "      <th>153</th>\n",
       "      <td>164</td>\n",
       "      <td>Experimental</td>\n",
       "    </tr>\n",
       "    <tr>\n",
       "      <th>154</th>\n",
       "      <td>165</td>\n",
       "      <td>Chillout</td>\n",
       "    </tr>\n",
       "    <tr>\n",
       "      <th>155</th>\n",
       "      <td>166</td>\n",
       "      <td>Hip Hop</td>\n",
       "    </tr>\n",
       "    <tr>\n",
       "      <th>156</th>\n",
       "      <td>167</td>\n",
       "      <td>Singer-Songwriter</td>\n",
       "    </tr>\n",
       "    <tr>\n",
       "      <th>157</th>\n",
       "      <td>168</td>\n",
       "      <td>K-Pop</td>\n",
       "    </tr>\n",
       "  </tbody>\n",
       "</table>\n",
       "<p>158 rows × 2 columns</p>\n",
       "</div>"
      ],
      "text/plain": [
       "     genre_id         genre_name\n",
       "0           1              Drums\n",
       "1           2               Keys\n",
       "2           3             Guitar\n",
       "3           4               Rock\n",
       "4           5             Trance\n",
       "..        ...                ...\n",
       "153       164       Experimental\n",
       "154       165           Chillout\n",
       "155       166            Hip Hop\n",
       "156       167  Singer-Songwriter\n",
       "157       168              K-Pop\n",
       "\n",
       "[158 rows x 2 columns]"
      ]
     },
     "execution_count": 36,
     "metadata": {},
     "output_type": "execute_result"
    },
    {
     "data": {
      "text/plain": [
       "0        Unknown\n",
       "1        Unknown\n",
       "2        Unknown\n",
       "3        Unknown\n",
       "4        Unknown\n",
       "          ...   \n",
       "30202    Unknown\n",
       "30203    Unknown\n",
       "30204    Unknown\n",
       "30205    Unknown\n",
       "30206    Unknown\n",
       "Name: genre_name, Length: 29234, dtype: object"
      ]
     },
     "execution_count": 36,
     "metadata": {},
     "output_type": "execute_result"
    }
   ],
   "source": [
    "discover_genres\n",
    "song_df['genre_name']"
   ]
  },
  {
   "cell_type": "code",
   "execution_count": 37,
   "id": "3e071b60",
   "metadata": {},
   "outputs": [
    {
     "data": {
      "text/html": [
       "<div>\n",
       "<style scoped>\n",
       "    .dataframe tbody tr th:only-of-type {\n",
       "        vertical-align: middle;\n",
       "    }\n",
       "\n",
       "    .dataframe tbody tr th {\n",
       "        vertical-align: top;\n",
       "    }\n",
       "\n",
       "    .dataframe thead th {\n",
       "        text-align: right;\n",
       "    }\n",
       "</style>\n",
       "<table border=\"1\" class=\"dataframe\">\n",
       "  <thead>\n",
       "    <tr style=\"text-align: right;\">\n",
       "      <th></th>\n",
       "      <th>genre_name</th>\n",
       "      <th>no_plays</th>\n",
       "    </tr>\n",
       "  </thead>\n",
       "  <tbody>\n",
       "    <tr>\n",
       "      <th>0</th>\n",
       "      <td>60s</td>\n",
       "      <td>20</td>\n",
       "    </tr>\n",
       "    <tr>\n",
       "      <th>1</th>\n",
       "      <td>80s</td>\n",
       "      <td>40</td>\n",
       "    </tr>\n",
       "    <tr>\n",
       "      <th>2</th>\n",
       "      <td>90s</td>\n",
       "      <td>30</td>\n",
       "    </tr>\n",
       "    <tr>\n",
       "      <th>3</th>\n",
       "      <td>Acoustic</td>\n",
       "      <td>13307</td>\n",
       "    </tr>\n",
       "    <tr>\n",
       "      <th>4</th>\n",
       "      <td>Afro beat</td>\n",
       "      <td>248</td>\n",
       "    </tr>\n",
       "    <tr>\n",
       "      <th>...</th>\n",
       "      <td>...</td>\n",
       "      <td>...</td>\n",
       "    </tr>\n",
       "    <tr>\n",
       "      <th>74</th>\n",
       "      <td>Techno</td>\n",
       "      <td>0</td>\n",
       "    </tr>\n",
       "    <tr>\n",
       "      <th>75</th>\n",
       "      <td>Trance</td>\n",
       "      <td>22</td>\n",
       "    </tr>\n",
       "    <tr>\n",
       "      <th>76</th>\n",
       "      <td>Trap</td>\n",
       "      <td>288</td>\n",
       "    </tr>\n",
       "    <tr>\n",
       "      <th>77</th>\n",
       "      <td>Uk garage</td>\n",
       "      <td>53</td>\n",
       "    </tr>\n",
       "    <tr>\n",
       "      <th>79</th>\n",
       "      <td>World</td>\n",
       "      <td>181</td>\n",
       "    </tr>\n",
       "  </tbody>\n",
       "</table>\n",
       "<p>79 rows × 2 columns</p>\n",
       "</div>"
      ],
      "text/plain": [
       "   genre_name  no_plays\n",
       "0         60s        20\n",
       "1         80s        40\n",
       "2         90s        30\n",
       "3    Acoustic     13307\n",
       "4   Afro beat       248\n",
       "..        ...       ...\n",
       "74     Techno         0\n",
       "75     Trance        22\n",
       "76       Trap       288\n",
       "77  Uk garage        53\n",
       "79      World       181\n",
       "\n",
       "[79 rows x 2 columns]"
      ]
     },
     "execution_count": 37,
     "metadata": {},
     "output_type": "execute_result"
    },
    {
     "data": {
      "text/plain": [
       "Text(0.5, 0, 'No of Plays')"
      ]
     },
     "execution_count": 37,
     "metadata": {},
     "output_type": "execute_result"
    },
    {
     "data": {
      "text/plain": [
       "Text(0, 0.5, 'Genre')"
      ]
     },
     "execution_count": 37,
     "metadata": {},
     "output_type": "execute_result"
    },
    {
     "data": {
      "text/plain": [
       "Text(0.5, 1.0, 'Top 10 Genres by Number of Plays')"
      ]
     },
     "execution_count": 37,
     "metadata": {},
     "output_type": "execute_result"
    },
    {
     "data": {
      "image/png": "[encoded data removed]",
      "text/plain": [
       "<Figure size 432x288 with 1 Axes>"
      ]
     },
     "metadata": {
      "needs_background": "light"
     },
     "output_type": "display_data"
    }
   ],
   "source": [
    "# Group by genre name\n",
    "genre_plays = song_df.groupby('genre_name')['no_plays'].sum().reset_index()\n",
    "\n",
    "# Remove unknowns\n",
    "filtered_genres = genre_plays[genre_plays['genre_name'] != 'Unknown']\n",
    "filtered_genres\n",
    "\n",
    "# Sort to get the highest 10\n",
    "genre_counts = filtered_genres.sort_values(by='no_plays', ascending = True).tail(10)\n",
    "\n",
    "# Ploting the horizontal bar chart\n",
    "cmap = plt.get_cmap('Purples')\n",
    "ax = genre_counts.plot(kind='barh', x='genre_name', y='no_plays', color=cmap(np.linspace(0.3, 0.9, len('genre_name'))))\n",
    "\n",
    "# Plot the data\n",
    "ax.set_xlabel('No of Plays')\n",
    "ax.set_ylabel('Genre')\n",
    "ax.set_title('Top 10 Genres by Number of Plays')\n",
    "plt.show()"
   ]
  },
  {
   "cell_type": "markdown",
   "id": "0833bc19",
   "metadata": {},
   "source": [
    "Findings: Acoustic seems to be the most played genre on this platform. It has more than twice the number of plays as the the second highest genre - Pop."
   ]
  },
  {
   "cell_type": "markdown",
   "id": "31c870f9",
   "metadata": {},
   "source": [
    "### Most Listened to Artists"
   ]
  },
  {
   "cell_type": "markdown",
   "id": "6c8d7f38",
   "metadata": {},
   "source": [
    "This section considers the artists that have the highest total number of plays from all songs released on the platform. "
   ]
  },
  {
   "cell_type": "code",
   "execution_count": 38,
   "id": "e994540c",
   "metadata": {},
   "outputs": [
    {
     "data": {
      "text/html": [
       "<div>\n",
       "<style scoped>\n",
       "    .dataframe tbody tr th:only-of-type {\n",
       "        vertical-align: middle;\n",
       "    }\n",
       "\n",
       "    .dataframe tbody tr th {\n",
       "        vertical-align: top;\n",
       "    }\n",
       "\n",
       "    .dataframe thead th {\n",
       "        text-align: right;\n",
       "    }\n",
       "</style>\n",
       "<table border=\"1\" class=\"dataframe\">\n",
       "  <thead>\n",
       "    <tr style=\"text-align: right;\">\n",
       "      <th></th>\n",
       "      <th>user_id</th>\n",
       "      <th>no_plays</th>\n",
       "      <th>name</th>\n",
       "      <th>verified</th>\n",
       "    </tr>\n",
       "  </thead>\n",
       "  <tbody>\n",
       "    <tr>\n",
       "      <th>1</th>\n",
       "      <td>2</td>\n",
       "      <td>226</td>\n",
       "      <td>Anton</td>\n",
       "      <td>False</td>\n",
       "    </tr>\n",
       "    <tr>\n",
       "      <th>2</th>\n",
       "      <td>4</td>\n",
       "      <td>282</td>\n",
       "      <td>dusty ineman</td>\n",
       "      <td>False</td>\n",
       "    </tr>\n",
       "    <tr>\n",
       "      <th>3</th>\n",
       "      <td>5</td>\n",
       "      <td>328</td>\n",
       "      <td>Zayne Savall</td>\n",
       "      <td>False</td>\n",
       "    </tr>\n",
       "    <tr>\n",
       "      <th>4</th>\n",
       "      <td>6</td>\n",
       "      <td>76</td>\n",
       "      <td>Rachel Ayjay</td>\n",
       "      <td>False</td>\n",
       "    </tr>\n",
       "    <tr>\n",
       "      <th>5</th>\n",
       "      <td>7</td>\n",
       "      <td>13</td>\n",
       "      <td>Timothy Michel</td>\n",
       "      <td>False</td>\n",
       "    </tr>\n",
       "    <tr>\n",
       "      <th>...</th>\n",
       "      <td>...</td>\n",
       "      <td>...</td>\n",
       "      <td>...</td>\n",
       "      <td>...</td>\n",
       "    </tr>\n",
       "    <tr>\n",
       "      <th>8774</th>\n",
       "      <td>18248</td>\n",
       "      <td>0</td>\n",
       "      <td>Harsh</td>\n",
       "      <td>False</td>\n",
       "    </tr>\n",
       "    <tr>\n",
       "      <th>8777</th>\n",
       "      <td>18260</td>\n",
       "      <td>0</td>\n",
       "      <td>WordIncarnate</td>\n",
       "      <td>False</td>\n",
       "    </tr>\n",
       "    <tr>\n",
       "      <th>8778</th>\n",
       "      <td>18262</td>\n",
       "      <td>0</td>\n",
       "      <td>Uwasha Wa Ya</td>\n",
       "      <td>False</td>\n",
       "    </tr>\n",
       "    <tr>\n",
       "      <th>8896</th>\n",
       "      <td>18560</td>\n",
       "      <td>0</td>\n",
       "      <td>carson rayn</td>\n",
       "      <td>False</td>\n",
       "    </tr>\n",
       "    <tr>\n",
       "      <th>8898</th>\n",
       "      <td>18565</td>\n",
       "      <td>0</td>\n",
       "      <td>Kato</td>\n",
       "      <td>False</td>\n",
       "    </tr>\n",
       "  </tbody>\n",
       "</table>\n",
       "<p>5827 rows × 4 columns</p>\n",
       "</div>"
      ],
      "text/plain": [
       "      user_id  no_plays            name  verified\n",
       "1           2       226           Anton     False\n",
       "2           4       282    dusty ineman     False\n",
       "3           5       328    Zayne Savall     False\n",
       "4           6        76    Rachel Ayjay     False\n",
       "5           7        13  Timothy Michel     False\n",
       "...       ...       ...             ...       ...\n",
       "8774    18248         0           Harsh     False\n",
       "8777    18260         0   WordIncarnate     False\n",
       "8778    18262         0    Uwasha Wa Ya     False\n",
       "8896    18560         0     carson rayn     False\n",
       "8898    18565         0            Kato     False\n",
       "\n",
       "[5827 rows x 4 columns]"
      ]
     },
     "execution_count": 38,
     "metadata": {},
     "output_type": "execute_result"
    },
    {
     "data": {
      "text/plain": [
       "<BarContainer object of 10 artists>"
      ]
     },
     "execution_count": 38,
     "metadata": {},
     "output_type": "execute_result"
    },
    {
     "data": {
      "text/plain": [
       "Text(0.5, 0, 'No of Plays')"
      ]
     },
     "execution_count": 38,
     "metadata": {},
     "output_type": "execute_result"
    },
    {
     "data": {
      "text/plain": [
       "Text(0, 0.5, 'Artist')"
      ]
     },
     "execution_count": 38,
     "metadata": {},
     "output_type": "execute_result"
    },
    {
     "data": {
      "text/plain": [
       "Text(0.5, 1.0, 'Top 10 Artists by Number of Plays')"
      ]
     },
     "execution_count": 38,
     "metadata": {},
     "output_type": "execute_result"
    },
    {
     "data": {
      "image/png": "[encoded data removed]",
      "text/plain": [
       "<Figure size 432x288 with 1 Axes>"
      ]
     },
     "metadata": {
      "needs_background": "light"
     },
     "output_type": "display_data"
    }
   ],
   "source": [
    "# Group by user_id and merge with artist name column from user dataset\n",
    "artist_counts = song_df.groupby('user_id')['no_plays'].sum().reset_index()\n",
    "artist_counts = pd.merge(artist_counts, user_df[['user_id','name','verified']], on = 'user_id', how = 'left')\n",
    "\n",
    "# Remove unknowns\n",
    "filtered_artists = artist_counts[artist_counts['name'] != 'Unknown']\n",
    "filtered_artists\n",
    "\n",
    "# Sort to get the highest 10\n",
    "artist_counts = filtered_artists.sort_values(by='no_plays', ascending = True).tail(10)\n",
    "\n",
    "# Defining the color map\n",
    "cmap = plt.get_cmap('Purples')\n",
    "\n",
    "# Ploting the horizontal bar chart\n",
    "labels = artist_counts['name']\n",
    "fig, ax = plt.subplots()\n",
    "ax.barh(labels, artist_counts['no_plays'],align='center', color=cmap(np.linspace(0.3, 0.8, len(labels))))\n",
    "\n",
    "# Plot the data\n",
    "plt.xlabel('No of Plays')\n",
    "plt.ylabel('Artist')\n",
    "plt.title('Top 10 Artists by Number of Plays')\n",
    "plt.show()\n"
   ]
  },
  {
   "cell_type": "markdown",
   "id": "cbef13d8",
   "metadata": {},
   "source": [
    "### Top Artists and Verification"
   ]
  },
  {
   "cell_type": "markdown",
   "id": "c1faa0bd",
   "metadata": {},
   "source": [
    "This section considers the verification statis of artists that are most listened to on the music platform."
   ]
  },
  {
   "cell_type": "code",
   "execution_count": 39,
   "id": "88ccd072",
   "metadata": {},
   "outputs": [
    {
     "data": {
      "text/plain": [
       "0        False\n",
       "1        False\n",
       "2        False\n",
       "3        False\n",
       "4        False\n",
       "         ...  \n",
       "17969    False\n",
       "17970    False\n",
       "17971    False\n",
       "17972    False\n",
       "17973    False\n",
       "Name: verified, Length: 17974, dtype: bool"
      ]
     },
     "execution_count": 39,
     "metadata": {},
     "output_type": "execute_result"
    }
   ],
   "source": [
    "user_df['verified']"
   ]
  },
  {
   "cell_type": "code",
   "execution_count": 40,
   "id": "fd6f761e",
   "metadata": {},
   "outputs": [
    {
     "data": {
      "text/plain": [
       "verified\n",
       "False    10\n",
       "Name: user_id, dtype: int64"
      ]
     },
     "execution_count": 40,
     "metadata": {},
     "output_type": "execute_result"
    },
    {
     "data": {
      "text/plain": [
       "([<matplotlib.patches.Wedge at 0x7f97f4757040>],\n",
       " [Text(-1.1, 1.3471114790620887e-16, 'False')],\n",
       " [Text(-0.6, 7.347880794884119e-17, '100.0%')])"
      ]
     },
     "execution_count": 40,
     "metadata": {},
     "output_type": "execute_result"
    },
    {
     "data": {
      "text/plain": [
       "Text(0.5, 1.0, 'Distribution of Verified Artists')"
      ]
     },
     "execution_count": 40,
     "metadata": {},
     "output_type": "execute_result"
    },
    {
     "data": {
      "image/png": "[encoded data removed]",
      "text/plain": [
       "<Figure size 432x288 with 1 Axes>"
      ]
     },
     "metadata": {},
     "output_type": "display_data"
    }
   ],
   "source": [
    "# group the artists by verification status and count the number of artists in each group\n",
    "verification_counts = artist_counts.groupby('verified')['user_id'].count()\n",
    "verification_counts\n",
    "\n",
    "# plot the results as a pie chart\n",
    "plt.pie(verification_counts, labels=['False'], autopct='%1.1f%%')\n",
    "plt.title('Distribution of Verified Artists')\n",
    "plt.show()\n"
   ]
  },
  {
   "cell_type": "code",
   "execution_count": 41,
   "id": "00c3fb8b",
   "metadata": {},
   "outputs": [
    {
     "data": {
      "text/plain": [
       "verified\n",
       "False    17960\n",
       "True        14\n",
       "Name: user_id, dtype: int64"
      ]
     },
     "execution_count": 41,
     "metadata": {},
     "output_type": "execute_result"
    }
   ],
   "source": [
    "# Percentage of users that are verified\n",
    "totalverification_counts = user_df.groupby('verified')['user_id'].count()\n",
    "totalverification_counts"
   ]
  },
  {
   "cell_type": "markdown",
   "id": "8ea64597",
   "metadata": {},
   "source": [
    "Findings: All the top artistes on the platform are not verified. There is only 1% of verified users on the platform."
   ]
  },
  {
   "cell_type": "markdown",
   "id": "cafe5a71",
   "metadata": {},
   "source": [
    "## Top Artists User Classification"
   ]
  },
  {
   "cell_type": "markdown",
   "id": "7a4bed72",
   "metadata": {},
   "source": [
    "This section aims to disclose what classes the most played artists on the platform belong to."
   ]
  },
  {
   "cell_type": "code",
   "execution_count": 42,
   "id": "092701bd",
   "metadata": {},
   "outputs": [
    {
     "data": {
      "text/html": [
       "<div>\n",
       "<style scoped>\n",
       "    .dataframe tbody tr th:only-of-type {\n",
       "        vertical-align: middle;\n",
       "    }\n",
       "\n",
       "    .dataframe tbody tr th {\n",
       "        vertical-align: top;\n",
       "    }\n",
       "\n",
       "    .dataframe thead th {\n",
       "        text-align: right;\n",
       "    }\n",
       "</style>\n",
       "<table border=\"1\" class=\"dataframe\">\n",
       "  <thead>\n",
       "    <tr style=\"text-align: right;\">\n",
       "      <th></th>\n",
       "      <th>user_id</th>\n",
       "      <th>no_plays</th>\n",
       "      <th>name</th>\n",
       "      <th>verified</th>\n",
       "      <th>userclassifications_name</th>\n",
       "    </tr>\n",
       "  </thead>\n",
       "  <tbody>\n",
       "    <tr>\n",
       "      <th>0</th>\n",
       "      <td>247</td>\n",
       "      <td>2491</td>\n",
       "      <td>falling_øceans</td>\n",
       "      <td>False</td>\n",
       "      <td>songwriter</td>\n",
       "    </tr>\n",
       "    <tr>\n",
       "      <th>1</th>\n",
       "      <td>247</td>\n",
       "      <td>2491</td>\n",
       "      <td>falling_øceans</td>\n",
       "      <td>False</td>\n",
       "      <td>musician</td>\n",
       "    </tr>\n",
       "    <tr>\n",
       "      <th>2</th>\n",
       "      <td>247</td>\n",
       "      <td>2491</td>\n",
       "      <td>falling_øceans</td>\n",
       "      <td>False</td>\n",
       "      <td>singer</td>\n",
       "    </tr>\n",
       "    <tr>\n",
       "      <th>3</th>\n",
       "      <td>247</td>\n",
       "      <td>2491</td>\n",
       "      <td>falling_øceans</td>\n",
       "      <td>False</td>\n",
       "      <td>lyricist</td>\n",
       "    </tr>\n",
       "    <tr>\n",
       "      <th>4</th>\n",
       "      <td>247</td>\n",
       "      <td>2491</td>\n",
       "      <td>falling_øceans</td>\n",
       "      <td>False</td>\n",
       "      <td>producer</td>\n",
       "    </tr>\n",
       "  </tbody>\n",
       "</table>\n",
       "</div>"
      ],
      "text/plain": [
       "   user_id  no_plays            name  verified userclassifications_name\n",
       "0      247      2491  falling_øceans     False               songwriter\n",
       "1      247      2491  falling_øceans     False                 musician\n",
       "2      247      2491  falling_øceans     False                   singer\n",
       "3      247      2491  falling_øceans     False                 lyricist\n",
       "4      247      2491  falling_øceans     False                 producer"
      ]
     },
     "execution_count": 42,
     "metadata": {},
     "output_type": "execute_result"
    }
   ],
   "source": [
    "# Merge user classification daaset with most played\n",
    "top_class = pd.merge(artist_counts, rough_df[['user_id','userclassifications_name']], on = 'user_id', how = 'left')\n",
    "top_class.head()"
   ]
  },
  {
   "cell_type": "code",
   "execution_count": 43,
   "id": "3c854a16",
   "metadata": {},
   "outputs": [
    {
     "name": "stderr",
     "output_type": "stream",
     "text": [
      "/var/folders/34/r1qq3xjj39l1mlwm2grbxj_c0000gn/T/ipykernel_2861/809851447.py:13: FutureWarning: The frame.append method is deprecated and will be removed from pandas in a future version. Use pandas.concat instead.\n",
      "  group_counts = group_counts.append({'class_group': group_name, 'count': group_count}, ignore_index=True)\n",
      "/var/folders/34/r1qq3xjj39l1mlwm2grbxj_c0000gn/T/ipykernel_2861/809851447.py:13: FutureWarning: The frame.append method is deprecated and will be removed from pandas in a future version. Use pandas.concat instead.\n",
      "  group_counts = group_counts.append({'class_group': group_name, 'count': group_count}, ignore_index=True)\n",
      "/var/folders/34/r1qq3xjj39l1mlwm2grbxj_c0000gn/T/ipykernel_2861/809851447.py:13: FutureWarning: The frame.append method is deprecated and will be removed from pandas in a future version. Use pandas.concat instead.\n",
      "  group_counts = group_counts.append({'class_group': group_name, 'count': group_count}, ignore_index=True)\n",
      "/var/folders/34/r1qq3xjj39l1mlwm2grbxj_c0000gn/T/ipykernel_2861/809851447.py:13: FutureWarning: The frame.append method is deprecated and will be removed from pandas in a future version. Use pandas.concat instead.\n",
      "  group_counts = group_counts.append({'class_group': group_name, 'count': group_count}, ignore_index=True)\n"
     ]
    },
    {
     "data": {
      "text/plain": [
       "([<matplotlib.patches.Wedge at 0x7f97f4efadf0>,\n",
       "  <matplotlib.patches.Wedge at 0x7f97f4f09430>,\n",
       "  <matplotlib.patches.Wedge at 0x7f97f4f09b80>,\n",
       "  <matplotlib.patches.Wedge at 0x7f97f49052e0>],\n",
       " [Text(0.823361820361495, 0.7294349270298247, 'singer'),\n",
       "  Text(-0.8233617862141807, 0.7294349655741725, 'musician'),\n",
       "  Text(-0.5111956435741012, -0.9740015472220055, 'writer_lyricist'),\n",
       "  Text(0.9052820994707913, -0.6248714430807002, 'producer')],\n",
       " [Text(0.4491064474699063, 0.3978735965617225, '23.1%'),\n",
       "  Text(-0.4491064288440985, 0.3978736175859122, '30.8%'),\n",
       "  Text(-0.2788339874040552, -0.5312735712120029, '26.9%'),\n",
       "  Text(0.49379023607497696, -0.34083896895310917, '19.2%')])"
      ]
     },
     "execution_count": 43,
     "metadata": {},
     "output_type": "execute_result"
    },
    {
     "data": {
      "image/png": "[encoded data removed]",
      "text/plain": [
       "<Figure size 432x288 with 1 Axes>"
      ]
     },
     "metadata": {},
     "output_type": "display_data"
    }
   ],
   "source": [
    "# Define the groups of classes\n",
    "class_groups = {\n",
    "    'singer': ['singer'],\n",
    "    'musician': ['musician'],\n",
    "    'writer_lyricist': ['songwriter', 'lyricist'],\n",
    "    'producer' : ['producer']\n",
    "}\n",
    "\n",
    "# Create a new DataFrame with the class groups and the number of users in each group\n",
    "group_counts = pd.DataFrame(columns=['class_group', 'count'])\n",
    "for group_name, group_classes in class_groups.items():\n",
    "    group_count = top_class[top_class['userclassifications_name'].isin(group_classes)].groupby('user_id').size().shape[0]\n",
    "    group_counts = group_counts.append({'class_group': group_name, 'count': group_count}, ignore_index=True)\n",
    "\n",
    "# Calculate the proportions for each class group\n",
    "total_users = top_class['user_id'].nunique()\n",
    "group_counts['proportion'] = group_counts['count'] / total_users\n",
    "\n",
    "# Plot the proportions for each class group\n",
    "plt.pie(group_counts['proportion'], labels=group_counts['class_group'], autopct='%1.1f%%')\n",
    "plt.show()"
   ]
  },
  {
   "cell_type": "markdown",
   "id": "92533860",
   "metadata": {},
   "source": [
    "Findings: Most played artists on the platform seems to be almost equally distributed between all the classes."
   ]
  },
  {
   "cell_type": "markdown",
   "id": "b398cc9f",
   "metadata": {},
   "source": [
    "# Model selection and implementation"
   ]
  },
  {
   "cell_type": "code",
   "execution_count": 44,
   "id": "12d12983",
   "metadata": {},
   "outputs": [
    {
     "data": {
      "text/plain": [
       "song_id                     int64\n",
       "name                       object\n",
       "downloads_count             int64\n",
       "user_id                     int64\n",
       "no_likes                    int64\n",
       "no_plays                    int64\n",
       "pan                       float64\n",
       "volume                    float64\n",
       "genre_name                 object\n",
       "explicit                     bool\n",
       "public                       bool\n",
       "deleted                      bool\n",
       "locked                       bool\n",
       "hide_from_discover           bool\n",
       "state_complete              uint8\n",
       "state_initial               uint8\n",
       "state_work_in_progress      uint8\n",
       "source_ios                  uint8\n",
       "source_web                  uint8\n",
       "Success                     int64\n",
       "upload_source              object\n",
       "dtype: object"
      ]
     },
     "execution_count": 44,
     "metadata": {},
     "output_type": "execute_result"
    }
   ],
   "source": [
    "song_df.dtypes"
   ]
  },
  {
   "cell_type": "markdown",
   "id": "870e09e5",
   "metadata": {},
   "source": [
    "Changing the boolean variables to 0 and 1 values, where 0 represents \"False\" and 1 represents \"True\" for explicit, public, deleted, locked, hide_from_discover"
   ]
  },
  {
   "cell_type": "code",
   "execution_count": 45,
   "id": "d2af89d8",
   "metadata": {},
   "outputs": [],
   "source": [
    "#Convert boolean variables to 0 and 1 values\n",
    "song_df['explicit'] = song_df['explicit'].astype(int)\n",
    "song_df['public'] = song_df['public'].astype(int)\n",
    "song_df['deleted'] = song_df['deleted'].astype(int)\n",
    "song_df['locked'] = song_df['locked'].astype(int)\n",
    "song_df['hide_from_discover'] = song_df['hide_from_discover'].astype(int)"
   ]
  },
  {
   "cell_type": "code",
   "execution_count": 46,
   "id": "8f49d0d5",
   "metadata": {},
   "outputs": [
    {
     "data": {
      "text/plain": [
       "song_id                     int64\n",
       "name                       object\n",
       "downloads_count             int64\n",
       "user_id                     int64\n",
       "no_likes                    int64\n",
       "no_plays                    int64\n",
       "pan                       float64\n",
       "volume                    float64\n",
       "genre_name                 object\n",
       "explicit                    int64\n",
       "public                      int64\n",
       "deleted                     int64\n",
       "locked                      int64\n",
       "hide_from_discover          int64\n",
       "state_complete              uint8\n",
       "state_initial               uint8\n",
       "state_work_in_progress      uint8\n",
       "source_ios                  uint8\n",
       "source_web                  uint8\n",
       "Success                     int64\n",
       "upload_source              object\n",
       "dtype: object"
      ]
     },
     "execution_count": 46,
     "metadata": {},
     "output_type": "execute_result"
    }
   ],
   "source": [
    "song_df.dtypes"
   ]
  },
  {
   "cell_type": "markdown",
   "id": "0b948d94",
   "metadata": {},
   "source": [
    "**DATA NORMALIZATION: Feature scaling to convert all numerical columns to similar range** "
   ]
  },
  {
   "cell_type": "markdown",
   "id": "66de5f33",
   "metadata": {},
   "source": [
    "Determining what variables to scale using Shapiro-Wilk test"
   ]
  },
  {
   "cell_type": "code",
   "execution_count": 47,
   "id": "cc774b78",
   "metadata": {},
   "outputs": [
    {
     "name": "stdout",
     "output_type": "stream",
     "text": [
      "Statistics=0.148, p=0.000\n",
      "Reject H0, hence data is not normally distributed\n"
     ]
    },
    {
     "name": "stderr",
     "output_type": "stream",
     "text": [
      "/Users/aparnabimal/opt/anaconda3/lib/python3.9/site-packages/scipy/stats/_morestats.py:1816: UserWarning: p-value may not be accurate for N > 5000.\n",
      "  warnings.warn(\"p-value may not be accurate for N > 5000.\")\n"
     ]
    }
   ],
   "source": [
    "#normal distribution test for no_likes in song_df table\n",
    "#if pvalue is greater than 0.05, no_likes is normally distributed\n",
    "stat, p = shapiro(song_df['no_likes'])\n",
    "print('Statistics=%.3f, p=%.3f' % (stat, p))\n",
    "alpha = 0.05\n",
    "if p > alpha:\n",
    " print('Fail to reject H0, hence data is normally distributed')\n",
    "else:\n",
    " print('Reject H0, hence data is not normally distributed')"
   ]
  },
  {
   "cell_type": "code",
   "execution_count": 48,
   "id": "b9ebecfe",
   "metadata": {},
   "outputs": [
    {
     "name": "stdout",
     "output_type": "stream",
     "text": [
      "Statistics=0.010, p=0.000\n",
      "Reject H0, hence data is not normally distributed\n"
     ]
    }
   ],
   "source": [
    "#normal distribution test for downloads_count in song_df table\n",
    "#if pvalue is greater than 0.05, downloads_count is normally distributed\n",
    "stat, p = shapiro(song_df['downloads_count'])\n",
    "print('Statistics=%.3f, p=%.3f' % (stat, p))\n",
    "alpha = 0.05\n",
    "if p > alpha:\n",
    " print('Fail to reject H0, hence data is normally distributed')\n",
    "else:\n",
    " print('Reject H0, hence data is not normally distributed')"
   ]
  },
  {
   "cell_type": "markdown",
   "id": "e92b3f5f",
   "metadata": {},
   "source": [
    "Scaling the necessary variables i.e., \"downloads_count\" and \"no_likes\" in \"song_df\" using StandardScalar"
   ]
  },
  {
   "cell_type": "code",
   "execution_count": 49,
   "id": "23deadd4",
   "metadata": {},
   "outputs": [
    {
     "data": {
      "text/plain": [
       "StandardScaler()"
      ]
     },
     "execution_count": 49,
     "metadata": {},
     "output_type": "execute_result"
    }
   ],
   "source": [
    "#Separate the outcome variable from the predictor variables\n",
    "X1 = song_df.drop(['Success', 'song_id', 'name', 'user_id', 'no_plays', 'pan', 'volume', 'genre_name', 'source_ios', 'source_web','upload_source'], axis=1)\n",
    "y1 = song_df['Success']\n",
    "\n",
    "#Create an instance of the StandardScaler object\n",
    "scaler = StandardScaler()\n",
    "\n",
    "#Fit the scaler to the predictor variables\n",
    "scaler.fit(X1[['downloads_count', 'no_likes']])\n",
    "\n",
    "#Transform the predictor variables using the scaler\n",
    "X1[['downloads_count', 'no_likes']] = scaler.transform(X1[['downloads_count', 'no_likes']])"
   ]
  },
  {
   "cell_type": "markdown",
   "id": "015b8b07",
   "metadata": {},
   "source": [
    "**Splitting the dataset into train and test set**"
   ]
  },
  {
   "cell_type": "code",
   "execution_count": 50,
   "id": "7dff67ba",
   "metadata": {},
   "outputs": [],
   "source": [
    "#Split the data into training and testing sets\n",
    "X_train1, X_test1, y_train1, y_test1 = train_test_split(X1, y1, test_size=0.3, random_state=42)"
   ]
  },
  {
   "cell_type": "markdown",
   "id": "deb41b49",
   "metadata": {},
   "source": [
    "## Random Forest Model"
   ]
  },
  {
   "cell_type": "code",
   "execution_count": 51,
   "id": "27ab88c3",
   "metadata": {},
   "outputs": [
    {
     "data": {
      "text/plain": [
       "RandomForestClassifier(random_state=42)"
      ]
     },
     "execution_count": 51,
     "metadata": {},
     "output_type": "execute_result"
    },
    {
     "name": "stdout",
     "output_type": "stream",
     "text": [
      "Accuracy:  0.8282977995667541\n",
      "Precision:  0.7535031847133759\n",
      "Recall:  0.5139009556907037\n",
      "F1-score:  0.6110537190082646\n",
      "Confusion matrix: \n",
      " [[6082  387]\n",
      " [1119 1183]]\n",
      "Classification report: \n",
      "               precision    recall  f1-score   support\n",
      "\n",
      "           0       0.84      0.94      0.89      6469\n",
      "           1       0.75      0.51      0.61      2302\n",
      "\n",
      "    accuracy                           0.83      8771\n",
      "   macro avg       0.80      0.73      0.75      8771\n",
      "weighted avg       0.82      0.83      0.82      8771\n",
      "\n"
     ]
    }
   ],
   "source": [
    "#Create a random forest classifier object\n",
    "rfc = RandomForestClassifier(random_state=42)\n",
    "\n",
    "#Fit the random forest model to the oversampled training data\n",
    "rfc.fit(X_train1, y_train1)\n",
    "\n",
    "#Use the trained model to make predictions on the test data\n",
    "y_pred = rfc.predict(X_test1)\n",
    "\n",
    "#Compute the evaluation metrics for the model\n",
    "accuracy = accuracy_score(y_test1, y_pred)\n",
    "precision = precision_score(y_test1, y_pred)\n",
    "recall = recall_score(y_test1, y_pred)\n",
    "f1 = f1_score(y_test1, y_pred)\n",
    "confusion_matrix = confusion_matrix(y_test1, y_pred)\n",
    "\n",
    "#Print the evaluation metrics\n",
    "print(\"Accuracy: \", accuracy)\n",
    "print(\"Precision: \", precision)\n",
    "print(\"Recall: \", recall)\n",
    "print(\"F1-score: \", f1)\n",
    "print(\"Confusion matrix: \\n\", confusion_matrix)\n",
    "print(\"Classification report: \\n\",classification_report(y_test1, y_pred))"
   ]
  },
  {
   "cell_type": "markdown",
   "id": "7a5b3782",
   "metadata": {},
   "source": [
    "**Model tuning to improve performance**"
   ]
  },
  {
   "cell_type": "markdown",
   "id": "db103314",
   "metadata": {},
   "source": [
    "1. Tuning hyperparameters using GridSearchCV"
   ]
  },
  {
   "cell_type": "code",
   "execution_count": 52,
   "id": "74d6b520",
   "metadata": {},
   "outputs": [
    {
     "data": {
      "text/plain": [
       "GridSearchCV(cv=5, estimator=RandomForestClassifier(random_state=42), n_jobs=-1,\n",
       "             param_grid={'bootstrap': [True, False], 'max_depth': [5, 10, 15],\n",
       "                         'min_samples_leaf': [1, 2, 4],\n",
       "                         'min_samples_split': [2, 5, 10],\n",
       "                         'n_estimators': [100, 200, 300]},\n",
       "             scoring='f1')"
      ]
     },
     "execution_count": 52,
     "metadata": {},
     "output_type": "execute_result"
    },
    {
     "name": "stdout",
     "output_type": "stream",
     "text": [
      "Best hyperparameters:  {'bootstrap': True, 'max_depth': 15, 'min_samples_leaf': 4, 'min_samples_split': 10, 'n_estimators': 100}\n",
      "Best score:  0.6095752583954962\n"
     ]
    }
   ],
   "source": [
    "#Create a dictionary of hyperparameters and their values to test\n",
    "param_grid = {\n",
    "    'n_estimators': [100, 200, 300],\n",
    "    'max_depth': [5, 10, 15],\n",
    "    'min_samples_split': [2, 5, 10],\n",
    "    'min_samples_leaf': [1, 2, 4],\n",
    "    'bootstrap' : [True, False]\n",
    "}\n",
    "\n",
    "#Create a GridSearchCV object with the random forest classifier and the hyperparameter grid\n",
    "grid_search = GridSearchCV(estimator=rfc, param_grid=param_grid, cv=5, n_jobs=-1, scoring='f1')\n",
    "\n",
    "#Fit the GridSearchCV object to the training data\n",
    "grid_search.fit(X_train1, y_train1)\n",
    "\n",
    "#Print the best hyperparameters and their corresponding score\n",
    "print(\"Best hyperparameters: \", grid_search.best_params_)\n",
    "print(\"Best score: \", grid_search.best_score_)\n"
   ]
  },
  {
   "cell_type": "markdown",
   "id": "220b408f",
   "metadata": {},
   "source": [
    "Given that GridSearchCV has now provided us with the best hyperparameters to use, the RandomForestClassifier() model is adjusted accordingly"
   ]
  },
  {
   "cell_type": "code",
   "execution_count": 53,
   "id": "48660468",
   "metadata": {},
   "outputs": [
    {
     "data": {
      "text/plain": [
       "RandomForestClassifier(max_depth=15, min_samples_leaf=4, min_samples_split=10,\n",
       "                       n_estimators=10, random_state=42)"
      ]
     },
     "execution_count": 53,
     "metadata": {},
     "output_type": "execute_result"
    },
    {
     "name": "stdout",
     "output_type": "stream",
     "text": [
      "Accuracy:  0.8278417512256299\n",
      "Precision:  0.751269035532995\n",
      "Recall:  0.5143353605560382\n",
      "F1-score:  0.6106240330067044\n",
      "Confusion matrix: \n",
      " [[6082  387]\n",
      " [1119 1183]]\n",
      "Classification report: \n",
      "               precision    recall  f1-score   support\n",
      "\n",
      "           0       0.84      0.94      0.89      6469\n",
      "           1       0.75      0.51      0.61      2302\n",
      "\n",
      "    accuracy                           0.83      8771\n",
      "   macro avg       0.80      0.73      0.75      8771\n",
      "weighted avg       0.82      0.83      0.82      8771\n",
      "\n"
     ]
    }
   ],
   "source": [
    "#Use the best hyperparameters to create a new random forest classifier object\n",
    "rfc_tuned = RandomForestClassifier(bootstrap=True, max_depth=15, min_samples_leaf=4, min_samples_split=10, n_estimators=10, random_state=42)\n",
    "\n",
    "#Fit the tuned random forest model to the full training data\n",
    "rfc_tuned.fit(X_train1, y_train1)\n",
    "\n",
    "#Use the trained model to make predictions on the test data\n",
    "y_pred = rfc_tuned.predict(X_test1)\n",
    "\n",
    "#Compute the evaluation metrics for the model\n",
    "accuracy = accuracy_score(y_test1, y_pred)\n",
    "precision = precision_score(y_test1, y_pred)\n",
    "recall = recall_score(y_test1, y_pred)\n",
    "f1 = f1_score(y_test1, y_pred)\n",
    "conf_matrix = sk_confusion_matrix(y_test1, y_pred)\n",
    "\n",
    "#Print the evaluation metrics\n",
    "print(\"Accuracy: \", accuracy)\n",
    "print(\"Precision: \", precision)\n",
    "print(\"Recall: \", recall)\n",
    "print(\"F1-score: \", f1)\n",
    "print(\"Confusion matrix: \\n\", confusion_matrix)\n",
    "print(\"Classification report: \\n\",classification_report(y_test1, y_pred))"
   ]
  },
  {
   "cell_type": "markdown",
   "id": "33213bb3",
   "metadata": {},
   "source": [
    "**NOTE**: Using GridSearchCV didn't improve the performance of the model, we look at feature selection"
   ]
  },
  {
   "cell_type": "code",
   "execution_count": 54,
   "id": "f3214418",
   "metadata": {},
   "outputs": [
    {
     "data": {
      "text/plain": [
       "RandomForestClassifier(max_depth=15, min_samples_leaf=4, min_samples_split=10,\n",
       "                       n_estimators=10, random_state=42)"
      ]
     },
     "execution_count": 54,
     "metadata": {},
     "output_type": "execute_result"
    },
    {
     "data": {
      "text/plain": [
       "RandomForestClassifier(max_depth=15, min_samples_leaf=4, min_samples_split=10,\n",
       "                       n_estimators=10, random_state=42)"
      ]
     },
     "execution_count": 54,
     "metadata": {},
     "output_type": "execute_result"
    },
    {
     "name": "stdout",
     "output_type": "stream",
     "text": [
      "Accuracy:  0.8273857028845057\n",
      "Precision:  0.7519181585677749\n",
      "Recall:  0.5108601216333623\n",
      "F1-score:  0.6083807553026384\n",
      "Confusion matrix: \n",
      " [[6081  388]\n",
      " [1126 1176]]\n",
      "Classification report: \n",
      "               precision    recall  f1-score   support\n",
      "\n",
      "           0       0.84      0.94      0.89      6469\n",
      "           1       0.75      0.51      0.61      2302\n",
      "\n",
      "    accuracy                           0.83      8771\n",
      "   macro avg       0.80      0.73      0.75      8771\n",
      "weighted avg       0.82      0.83      0.82      8771\n",
      "\n"
     ]
    }
   ],
   "source": [
    "from sklearn.feature_selection import SelectFromModel\n",
    "\n",
    "#Create a random forest classifier object\n",
    "rfc_tuned = RandomForestClassifier(bootstrap=True, max_depth=15, min_samples_leaf=4, min_samples_split=10, n_estimators=10, random_state=42)\n",
    "\n",
    "#Fit the random forest model to the oversampled training data\n",
    "rfc_tuned.fit(X_train1, y_train1)\n",
    "\n",
    "#Use feature importance attribute to select the most important features\n",
    "sel = SelectFromModel(rfc_tuned)\n",
    "\n",
    "#Transform the dataset to include only the most important features\n",
    "X_train1_selected = sel.fit_transform(X_train1, y_train1)\n",
    "X_test1_selected = sel.transform(X_test1)\n",
    "\n",
    "#Retrain the model on the selected features\n",
    "rfc_tuned.fit(X_train1_selected, y_train1)\n",
    "\n",
    "#Use the trained model to make predictions on the test data\n",
    "y_pred = rfc_tuned.predict(X_test1_selected)\n",
    "\n",
    "#Compute the evaluation metrics for the model\n",
    "accuracy = accuracy_score(y_test1, y_pred)\n",
    "precision = precision_score(y_test1, y_pred)\n",
    "recall = recall_score(y_test1, y_pred)\n",
    "f1 = f1_score(y_test1, y_pred)\n",
    "conf_matrix = sk_confusion_matrix(y_test1, y_pred)\n",
    "\n",
    "#Print the evaluation metrics\n",
    "print(\"Accuracy: \", accuracy)\n",
    "print(\"Precision: \", precision)\n",
    "print(\"Recall: \", recall)\n",
    "print(\"F1-score: \", f1)\n",
    "print(\"Confusion matrix: \\n\", conf_matrix)\n",
    "print(\"Classification report: \\n\",classification_report(y_test1, y_pred))"
   ]
  },
  {
   "cell_type": "markdown",
   "id": "8155cd43",
   "metadata": {},
   "source": [
    "Another method to improve model performance is PCA for feature engineering"
   ]
  },
  {
   "cell_type": "code",
   "execution_count": 55,
   "id": "0ac2351f",
   "metadata": {},
   "outputs": [
    {
     "data": {
      "text/plain": [
       "RandomForestClassifier(max_depth=15, min_samples_leaf=4, min_samples_split=10,\n",
       "                       n_estimators=10, random_state=42)"
      ]
     },
     "execution_count": 55,
     "metadata": {},
     "output_type": "execute_result"
    },
    {
     "name": "stdout",
     "output_type": "stream",
     "text": [
      "Accuracy:  0.8278417512256299\n",
      "Precision:  0.751269035532995\n",
      "Recall:  0.5143353605560382\n",
      "F1-score:  0.6106240330067044\n",
      "Confusion matrix: \n",
      " [[6077  392]\n",
      " [1118 1184]]\n",
      "Classification report: \n",
      "               precision    recall  f1-score   support\n",
      "\n",
      "           0       0.84      0.94      0.89      6469\n",
      "           1       0.75      0.51      0.61      2302\n",
      "\n",
      "    accuracy                           0.83      8771\n",
      "   macro avg       0.80      0.73      0.75      8771\n",
      "weighted avg       0.82      0.83      0.82      8771\n",
      "\n"
     ]
    }
   ],
   "source": [
    "#Create a PCA object with the desired number of components\n",
    "pca = PCA(n_components=10)\n",
    "\n",
    "#Fit the PCA object to the training data\n",
    "X_train_pca = pca.fit_transform(X_train1)\n",
    "\n",
    "#Transform the test data using the trained PCA object\n",
    "X_test_pca = pca.transform(X_test1)\n",
    "\n",
    "#Train a new model on the transformed data\n",
    "model = RandomForestClassifier(bootstrap=True, max_depth=15, min_samples_leaf=4, min_samples_split=10, n_estimators=10, random_state=42)\n",
    "model.fit(X_train_pca, y_train1)\n",
    "\n",
    "#Evaluate the model on the transformed test data\n",
    "y_pred = model.predict(X_test_pca)\n",
    "accuracy = accuracy_score(y_test1, y_pred)\n",
    "precision = precision_score(y_test1, y_pred)\n",
    "recall = recall_score(y_test1, y_pred)\n",
    "f1 = f1_score(y_test1, y_pred)\n",
    "conf_matrix = sk_confusion_matrix(y_test1, y_pred)\n",
    "\n",
    "#Print the evaluation metrics\n",
    "print(\"Accuracy: \", accuracy)\n",
    "print(\"Precision: \", precision)\n",
    "print(\"Recall: \", recall)\n",
    "print(\"F1-score: \", f1)\n",
    "print(\"Confusion matrix: \\n\", conf_matrix)\n",
    "print(\"Classification report: \\n\",classification_report(y_test1, y_pred))"
   ]
  },
  {
   "cell_type": "markdown",
   "id": "a740d8ae",
   "metadata": {},
   "source": [
    "For the PCA model the optimal number of components has to be used for PCA. This is done by plotting the cumilative explained variance ratio for different number of components and choose the number of components at the \"elbow\" of curve. "
   ]
  },
  {
   "cell_type": "code",
   "execution_count": 56,
   "id": "db27dacd",
   "metadata": {},
   "outputs": [
    {
     "data": {
      "text/plain": [
       "[<matplotlib.lines.Line2D at 0x7f97f55cbf40>]"
      ]
     },
     "execution_count": 56,
     "metadata": {},
     "output_type": "execute_result"
    },
    {
     "data": {
      "text/plain": [
       "Text(0.5, 0, 'Number of components')"
      ]
     },
     "execution_count": 56,
     "metadata": {},
     "output_type": "execute_result"
    },
    {
     "data": {
      "text/plain": [
       "Text(0, 0.5, 'Cumulative explained variance')"
      ]
     },
     "execution_count": 56,
     "metadata": {},
     "output_type": "execute_result"
    },
    {
     "data": {
      "image/png": "[encoded data removed]",
      "text/plain": [
       "<Figure size 432x288 with 1 Axes>"
      ]
     },
     "metadata": {
      "needs_background": "light"
     },
     "output_type": "display_data"
    }
   ],
   "source": [
    "#Fit PCA to the training data\n",
    "pca = PCA().fit(X_train1)\n",
    "\n",
    "#Plot the explained variance ratio\n",
    "plt.plot(np.cumsum(pca.explained_variance_ratio_))\n",
    "plt.xlabel('Number of components')\n",
    "plt.ylabel('Cumulative explained variance')\n",
    "plt.show()"
   ]
  },
  {
   "cell_type": "markdown",
   "id": "957cfc65",
   "metadata": {},
   "source": [
    "From the elbow graph, we can choose 5 components and use PCA again\n"
   ]
  },
  {
   "cell_type": "code",
   "execution_count": 57,
   "id": "f9b579ed",
   "metadata": {},
   "outputs": [
    {
     "data": {
      "text/plain": [
       "RandomForestClassifier(max_depth=15, min_samples_leaf=4, min_samples_split=10,\n",
       "                       n_estimators=10, random_state=42)"
      ]
     },
     "execution_count": 57,
     "metadata": {},
     "output_type": "execute_result"
    },
    {
     "name": "stdout",
     "output_type": "stream",
     "text": [
      "Accuracy:  0.8279557633109109\n",
      "Precision:  0.75142675967026\n",
      "Recall:  0.5147697654213728\n",
      "F1-score:  0.6109822119102861\n",
      "Confusion matrix: \n",
      " [[6077  392]\n",
      " [1117 1185]]\n",
      "Classification report: \n",
      "               precision    recall  f1-score   support\n",
      "\n",
      "           0       0.84      0.94      0.89      6469\n",
      "           1       0.75      0.51      0.61      2302\n",
      "\n",
      "    accuracy                           0.83      8771\n",
      "   macro avg       0.80      0.73      0.75      8771\n",
      "weighted avg       0.82      0.83      0.82      8771\n",
      "\n"
     ]
    }
   ],
   "source": [
    "#Create a PCA object with the desired number of components\n",
    "pca = PCA(n_components=5)\n",
    "\n",
    "#Fit the PCA object to the training data\n",
    "X_train_pca = pca.fit_transform(X_train1)\n",
    "\n",
    "#Transform the test data using the trained PCA object\n",
    "X_test_pca = pca.transform(X_test1)\n",
    "\n",
    "#Train a new model on the transformed data\n",
    "model = RandomForestClassifier(bootstrap=True, max_depth=15, min_samples_leaf=4, min_samples_split=10, n_estimators=10, random_state=42)\n",
    "model.fit(X_train_pca, y_train1)\n",
    "\n",
    "#Evaluate the model on the transformed test data\n",
    "y_pred = model.predict(X_test_pca)\n",
    "accuracy = accuracy_score(y_test1, y_pred)\n",
    "precision = precision_score(y_test1, y_pred)\n",
    "recall = recall_score(y_test1, y_pred)\n",
    "f1 = f1_score(y_test1, y_pred)\n",
    "conf_matrix = sk_confusion_matrix(y_test1, y_pred)\n",
    "\n",
    "#Print the evaluation metrics\n",
    "print(\"Accuracy: \", accuracy)\n",
    "print(\"Precision: \", precision)\n",
    "print(\"Recall: \", recall)\n",
    "print(\"F1-score: \", f1)\n",
    "print(\"Confusion matrix: \\n\", conf_matrix)\n",
    "print(\"Classification report: \\n\",classification_report(y_test1, y_pred))"
   ]
  },
  {
   "cell_type": "code",
   "execution_count": 58,
   "id": "68a14aa3",
   "metadata": {},
   "outputs": [
    {
     "data": {
      "text/plain": [
       "RFE(estimator=RandomForestClassifier(max_depth=15, min_samples_leaf=4,\n",
       "                                     min_samples_split=10, n_estimators=10,\n",
       "                                     random_state=42),\n",
       "    n_features_to_select=5)"
      ]
     },
     "execution_count": 58,
     "metadata": {},
     "output_type": "execute_result"
    },
    {
     "name": "stdout",
     "output_type": "stream",
     "text": [
      "[1 1 4 1 1 3 5 1 6 2]\n",
      "Accuracy: 0.8272716907992247\n",
      "Precision:  0.7517594369801663\n",
      "Recall:  0.5104257167680278\n",
      "F1-score:  0.6080206985769728\n",
      "Confusion matrix: \n",
      " [[6081  388]\n",
      " [1127 1175]]\n",
      "Classification report: \n",
      "               precision    recall  f1-score   support\n",
      "\n",
      "           0       0.84      0.94      0.89      6469\n",
      "           1       0.75      0.51      0.61      2302\n",
      "\n",
      "    accuracy                           0.83      8771\n",
      "   macro avg       0.80      0.73      0.75      8771\n",
      "weighted avg       0.82      0.83      0.82      8771\n",
      "\n"
     ]
    }
   ],
   "source": [
    "#Initializing Random Forest classifier\n",
    "rf = RandomForestClassifier(bootstrap=True, max_depth=15, min_samples_leaf=4, min_samples_split=10, n_estimators=10, random_state=42)\n",
    "\n",
    "#Initializing RFE with random forest model and no of features selected\n",
    "rfe = RFE(rf, n_features_to_select=5)\n",
    "\n",
    "#Fitting model with training data\n",
    "rfe.fit(X_train1, y_train1)\n",
    "\n",
    "#Print the ranking of each feature, with the highest ranked feature being 1\n",
    "print(rfe.ranking_)\n",
    "\n",
    "#Making predictions for Success\n",
    "y_pred = rfe.predict(X_test1)\n",
    "\n",
    "#Evaluating the model\n",
    "print('Accuracy:', accuracy_score(y_test1, y_pred))\n",
    "print(\"Precision: \", precision_score(y_test1, y_pred))\n",
    "print(\"Recall: \", recall_score(y_test1, y_pred))\n",
    "print(\"F1-score: \", f1_score(y_test1, y_pred))\n",
    "print(\"Confusion matrix: \\n\", sk_confusion_matrix(y_test1, y_pred))\n",
    "print(\"Classification report: \\n\",classification_report(y_test1, y_pred))"
   ]
  },
  {
   "cell_type": "markdown",
   "id": "9145027d",
   "metadata": {},
   "source": [
    "## Logistic Regression"
   ]
  },
  {
   "cell_type": "markdown",
   "id": "a5c01ef4",
   "metadata": {},
   "source": [
    "Running Logistic Regression model with no fine tuning"
   ]
  },
  {
   "cell_type": "code",
   "execution_count": 59,
   "id": "aa76fd6c",
   "metadata": {},
   "outputs": [
    {
     "data": {
      "text/plain": [
       "LogisticRegression()"
      ]
     },
     "execution_count": 59,
     "metadata": {},
     "output_type": "execute_result"
    },
    {
     "name": "stdout",
     "output_type": "stream",
     "text": [
      "Accuracy: 0.796602439858625\n",
      "Precision:  0.7943181818181818\n",
      "Recall:  0.30364900086880975\n",
      "F1-score:  0.43934632306725335\n",
      "Confusion matrix: \n",
      " [[6288  181]\n",
      " [1603  699]]\n",
      "Classification report: \n",
      "               precision    recall  f1-score   support\n",
      "\n",
      "           0       0.84      0.94      0.89      6469\n",
      "           1       0.75      0.51      0.61      2302\n",
      "\n",
      "    accuracy                           0.83      8771\n",
      "   macro avg       0.80      0.73      0.75      8771\n",
      "weighted avg       0.82      0.83      0.82      8771\n",
      "\n"
     ]
    }
   ],
   "source": [
    "#Logistic regression model\n",
    "logreg = LogisticRegression()\n",
    "\n",
    "#Fitting model with training data\n",
    "logreg.fit(X_train1, y_train1)\n",
    "\n",
    "#Making predictions for Success\n",
    "lr_y_pred = logreg.predict(X_test1)\n",
    "\n",
    "#Evaluating the model\n",
    "print('Accuracy:', accuracy_score(y_test1, lr_y_pred))\n",
    "print(\"Precision: \", precision_score(y_test1, lr_y_pred))\n",
    "print(\"Recall: \", recall_score(y_test1, lr_y_pred))\n",
    "print(\"F1-score: \", f1_score(y_test1, lr_y_pred))\n",
    "print(\"Confusion matrix: \\n\", sk_confusion_matrix(y_test1, lr_y_pred))\n",
    "print(\"Classification report: \\n\",classification_report(y_test1, y_pred))"
   ]
  },
  {
   "cell_type": "markdown",
   "id": "fb3447ad",
   "metadata": {},
   "source": [
    "From above results, it is visible that there are significantly more samples in the negative class than in the positive class hence leading to class imbalance. To resolve the class imbalance issue, weights are assigned to each class to maintain balance."
   ]
  },
  {
   "cell_type": "code",
   "execution_count": 60,
   "id": "26359d71",
   "metadata": {},
   "outputs": [
    {
     "name": "stderr",
     "output_type": "stream",
     "text": [
      "/Users/aparnabimal/opt/anaconda3/lib/python3.9/site-packages/sklearn/linear_model/_logistic.py:814: ConvergenceWarning: lbfgs failed to converge (status=1):\n",
      "STOP: TOTAL NO. of ITERATIONS REACHED LIMIT.\n",
      "\n",
      "Increase the number of iterations (max_iter) or scale the data as shown in:\n",
      "    https://scikit-learn.org/stable/modules/preprocessing.html\n",
      "Please also refer to the documentation for alternative solver options:\n",
      "    https://scikit-learn.org/stable/modules/linear_model.html#logistic-regression\n",
      "  n_iter_i = _check_optimize_result(\n"
     ]
    },
    {
     "data": {
      "text/plain": [
       "LogisticRegression(class_weight={0: 0.6765563526961351, 1: 1.9159785030803513})"
      ]
     },
     "execution_count": 60,
     "metadata": {},
     "output_type": "execute_result"
    },
    {
     "name": "stdout",
     "output_type": "stream",
     "text": [
      "Accuracy: 0.6191996351613271\n",
      "Precision:  0.4066546762589928\n",
      "Recall:  0.9821894005212859\n",
      "F1-score:  0.43934632306725335\n",
      "Confusion matrix: \n",
      " [[3170 3299]\n",
      " [  41 2261]]\n",
      "Classification report: \n",
      "               precision    recall  f1-score   support\n",
      "\n",
      "           0       0.99      0.49      0.65      6469\n",
      "           1       0.41      0.98      0.58      2302\n",
      "\n",
      "    accuracy                           0.62      8771\n",
      "   macro avg       0.70      0.74      0.62      8771\n",
      "weighted avg       0.83      0.62      0.63      8771\n",
      "\n"
     ]
    }
   ],
   "source": [
    "from sklearn.utils.class_weight import compute_class_weight\n",
    "\n",
    "#Computing class weights to balance classes\n",
    "class_weights = compute_class_weight('balanced', classes=[0, 1], y=y1)\n",
    "\n",
    "#Initialisaing logistic regression model with new class weights\n",
    "lr = LogisticRegression(class_weight={0: class_weights[0], 1: class_weights[1]})\n",
    "\n",
    "#Fitting model with training data\n",
    "lr.fit(X_train1, y_train1)\n",
    "\n",
    "#Making predictions for Success\n",
    "y_pred = lr.predict(X_test1)\n",
    "\n",
    "#Evaluating the model\n",
    "print('Accuracy:', accuracy_score(y_test1, y_pred))\n",
    "print(\"Precision: \", precision_score(y_test1, y_pred))\n",
    "print(\"Recall: \", recall_score(y_test1, y_pred))\n",
    "print(\"F1-score: \", f1_score(y_test1, lr_y_pred))\n",
    "print(\"Confusion matrix: \\n\", sk_confusion_matrix(y_test1, y_pred))\n",
    "print(\"Classification report: \\n\",classification_report(y_test1, y_pred))\n"
   ]
  },
  {
   "cell_type": "code",
   "execution_count": 61,
   "id": "75c0bfc1",
   "metadata": {},
   "outputs": [
    {
     "name": "stdout",
     "output_type": "stream",
     "text": [
      "1: 7629\n",
      "0: 21605\n"
     ]
    }
   ],
   "source": [
    "import collections\n",
    "#Counting and displaying unique values in success column\n",
    "counts = collections.Counter(y1)\n",
    "for value, count in counts.items():\n",
    "    print(f\"{value}: {count}\")"
   ]
  },
  {
   "cell_type": "code",
   "execution_count": 62,
   "id": "ea1592e8",
   "metadata": {},
   "outputs": [
    {
     "name": "stderr",
     "output_type": "stream",
     "text": [
      "/Users/aparnabimal/opt/anaconda3/lib/python3.9/site-packages/sklearn/linear_model/_logistic.py:814: ConvergenceWarning: lbfgs failed to converge (status=1):\n",
      "STOP: TOTAL NO. of ITERATIONS REACHED LIMIT.\n",
      "\n",
      "Increase the number of iterations (max_iter) or scale the data as shown in:\n",
      "    https://scikit-learn.org/stable/modules/preprocessing.html\n",
      "Please also refer to the documentation for alternative solver options:\n",
      "    https://scikit-learn.org/stable/modules/linear_model.html#logistic-regression\n",
      "  n_iter_i = _check_optimize_result(\n"
     ]
    },
    {
     "data": {
      "text/plain": [
       "LogisticRegression(class_weight={0: 0.677, 1: 1.916})"
      ]
     },
     "execution_count": 62,
     "metadata": {},
     "output_type": "execute_result"
    },
    {
     "name": "stdout",
     "output_type": "stream",
     "text": [
      "Accuracy: 0.6191996351613271\n",
      "Precision:  0.4066546762589928\n",
      "Recall:  0.9821894005212859\n",
      "F1-score:  0.5751717120325617\n",
      "Confusion matrix: \n",
      " [[3170 3299]\n",
      " [  41 2261]]\n",
      "Classification report: \n",
      "               precision    recall  f1-score   support\n",
      "\n",
      "           0       0.99      0.49      0.65      6469\n",
      "           1       0.41      0.98      0.58      2302\n",
      "\n",
      "    accuracy                           0.62      8771\n",
      "   macro avg       0.70      0.74      0.62      8771\n",
      "weighted avg       0.83      0.62      0.63      8771\n",
      "\n"
     ]
    }
   ],
   "source": [
    "#Computing class weights to balance classes\n",
    "class_weights = compute_class_weight('balanced', classes=[0, 1], y=y1)\n",
    "\n",
    "class_w = {0: 0.677, 1: 1.916}\n",
    "\n",
    "#Initialising logistic regression model with class weights\n",
    "lr = LogisticRegression(class_weight=class_w)\n",
    "\n",
    "#Fitting model with training data\n",
    "lr.fit(X_train1, y_train1)\n",
    "\n",
    "#Making predictions for Success\n",
    "y_pred = lr.predict(X_test1)\n",
    "\n",
    "#Evaluating the model\n",
    "print('Accuracy:', accuracy_score(y_test1, y_pred))\n",
    "print(\"Precision: \", precision_score(y_test1, y_pred))\n",
    "print(\"Recall: \", recall_score(y_test1, y_pred))\n",
    "print(\"F1-score: \", f1_score(y_test1, y_pred))\n",
    "print(\"Confusion matrix: \\n\", sk_confusion_matrix(y_test1, y_pred))\n",
    "print(\"Classification report: \\n\",classification_report(y_test1, y_pred))"
   ]
  },
  {
   "cell_type": "markdown",
   "id": "b38d5520",
   "metadata": {},
   "source": [
    "PCA to reduce the dimensionality of the training data and then apply logistic regression model with hyperparameter tuning(via GridSearch) to make predictions."
   ]
  },
  {
   "cell_type": "code",
   "execution_count": 63,
   "id": "cadcdee5",
   "metadata": {},
   "outputs": [
    {
     "data": {
      "text/plain": [
       "PCA()"
      ]
     },
     "execution_count": 63,
     "metadata": {},
     "output_type": "execute_result"
    },
    {
     "data": {
      "text/plain": [
       "[<matplotlib.lines.Line2D at 0x7f97f3f5c340>]"
      ]
     },
     "execution_count": 63,
     "metadata": {},
     "output_type": "execute_result"
    },
    {
     "data": {
      "text/plain": [
       "Text(0.5, 0, 'Number of components')"
      ]
     },
     "execution_count": 63,
     "metadata": {},
     "output_type": "execute_result"
    },
    {
     "data": {
      "text/plain": [
       "Text(0, 0.5, 'Cumulative explained variance ratio')"
      ]
     },
     "execution_count": 63,
     "metadata": {},
     "output_type": "execute_result"
    },
    {
     "data": {
      "image/png": "[encoded data removed]",
      "text/plain": [
       "<Figure size 432x288 with 1 Axes>"
      ]
     },
     "metadata": {
      "needs_background": "light"
     },
     "output_type": "display_data"
    },
    {
     "name": "stdout",
     "output_type": "stream",
     "text": [
      "Number of components selected:  4\n"
     ]
    }
   ],
   "source": [
    "#Determining number of components for PCA\n",
    "pca = PCA()\n",
    "pca.fit(X1)\n",
    "\n",
    "#Plot cumulative explained variance ratio\n",
    "plt.plot(np.cumsum(pca.explained_variance_ratio_))\n",
    "plt.xlabel('Number of components')\n",
    "plt.ylabel('Cumulative explained variance ratio')\n",
    "plt.show()\n",
    "\n",
    "\n",
    "cumulative_variance_ratio = np.cumsum(pca.explained_variance_ratio_)\n",
    "n_components = np.argmax(cumulative_variance_ratio >= 0.95) + 1\n",
    "print(\"Number of components selected: \", n_components)"
   ]
  },
  {
   "cell_type": "code",
   "execution_count": 64,
   "id": "bfaba76a",
   "metadata": {},
   "outputs": [
    {
     "data": {
      "text/plain": [
       "GridSearchCV(cv=5,\n",
       "             estimator=LogisticRegression(class_weight={0: 0.6765563526961351,\n",
       "                                                        1: 1.9159785030803513}),\n",
       "             param_grid={'C': [0.001, 0.01, 0.1, 1, 10, 100, 1000],\n",
       "                         'penalty': ['l2']},\n",
       "             scoring='accuracy')"
      ]
     },
     "execution_count": 64,
     "metadata": {},
     "output_type": "execute_result"
    },
    {
     "name": "stdout",
     "output_type": "stream",
     "text": [
      "Best parameters:  {'C': 100, 'penalty': 'l2'}\n",
      "Best score:  0.6242000205868494\n",
      "Accuracy: 0.6203397560141375\n",
      "Precision:  0.40613586559532505\n",
      "Recall:  0.9661164205039097\n",
      "F1-score:  0.5718693751607097\n",
      "Confusion matrix: \n",
      " [[3217 3252]\n",
      " [  78 2224]]\n",
      "Classification report: \n",
      "               precision    recall  f1-score   support\n",
      "\n",
      "           0       0.98      0.50      0.66      6469\n",
      "           1       0.41      0.97      0.57      2302\n",
      "\n",
      "    accuracy                           0.62      8771\n",
      "   macro avg       0.69      0.73      0.62      8771\n",
      "weighted avg       0.83      0.62      0.64      8771\n",
      "\n"
     ]
    }
   ],
   "source": [
    "#PCA technique to reduce dimensionality\n",
    "pca = PCA(n_components=4)\n",
    "X_train_pca = pca.fit_transform(X_train1)\n",
    "X_test_pca = pca.transform(X_test1)\n",
    "\n",
    "#Computing class weights to balance classes\n",
    "class_weights = compute_class_weight('balanced', classes=[0, 1], y=y1)\n",
    "\n",
    "#Initialisaing logistic regression model with new class weights\n",
    "model = LogisticRegression(class_weight={0: class_weights[0], 1: class_weights[1]})\n",
    "\n",
    "#Parameter grid initialisation for GridSearch\n",
    "param_grid = {'C': [0.001, 0.01, 0.1, 1, 10, 100, 1000],\n",
    "             'penalty': ['l2']}\n",
    "\n",
    "#Initialising GridSearch\n",
    "grid_search = GridSearchCV(model, param_grid=param_grid, cv=5, scoring='accuracy')\n",
    "\n",
    "#Fitting model with training data\n",
    "grid_search.fit(X_train_pca, y_train1)\n",
    "\n",
    "print(\"Best parameters: \", grid_search.best_params_)\n",
    "print(\"Best score: \", grid_search.best_score_)\n",
    "\n",
    "#Making predictions for Success\n",
    "y_pred = grid_search.predict(X_test_pca)\n",
    "\n",
    "#Evaluating the model\n",
    "print('Accuracy:', accuracy_score(y_test1, y_pred))\n",
    "print(\"Precision: \", precision_score(y_test1, y_pred))\n",
    "print(\"Recall: \", recall_score(y_test1, y_pred))\n",
    "print(\"F1-score: \", f1_score(y_test1, y_pred))\n",
    "print(\"Confusion matrix: \\n\", sk_confusion_matrix(y_test1, y_pred))\n",
    "print(\"Classification report: \\n\",classification_report(y_test1, y_pred))"
   ]
  },
  {
   "cell_type": "markdown",
   "id": "c4e1c3aa",
   "metadata": {},
   "source": [
    "Using bagging classifier to reduce overfitting and improve generalization performance."
   ]
  },
  {
   "cell_type": "code",
   "execution_count": 65,
   "id": "f2289abb",
   "metadata": {},
   "outputs": [
    {
     "name": "stderr",
     "output_type": "stream",
     "text": [
      "/Users/aparnabimal/opt/anaconda3/lib/python3.9/site-packages/sklearn/linear_model/_logistic.py:814: ConvergenceWarning: lbfgs failed to converge (status=1):\n",
      "STOP: TOTAL NO. of ITERATIONS REACHED LIMIT.\n",
      "\n",
      "Increase the number of iterations (max_iter) or scale the data as shown in:\n",
      "    https://scikit-learn.org/stable/modules/preprocessing.html\n",
      "Please also refer to the documentation for alternative solver options:\n",
      "    https://scikit-learn.org/stable/modules/linear_model.html#logistic-regression\n",
      "  n_iter_i = _check_optimize_result(\n",
      "/Users/aparnabimal/opt/anaconda3/lib/python3.9/site-packages/sklearn/linear_model/_logistic.py:814: ConvergenceWarning: lbfgs failed to converge (status=1):\n",
      "STOP: TOTAL NO. of ITERATIONS REACHED LIMIT.\n",
      "\n",
      "Increase the number of iterations (max_iter) or scale the data as shown in:\n",
      "    https://scikit-learn.org/stable/modules/preprocessing.html\n",
      "Please also refer to the documentation for alternative solver options:\n",
      "    https://scikit-learn.org/stable/modules/linear_model.html#logistic-regression\n",
      "  n_iter_i = _check_optimize_result(\n",
      "/Users/aparnabimal/opt/anaconda3/lib/python3.9/site-packages/sklearn/linear_model/_logistic.py:814: ConvergenceWarning: lbfgs failed to converge (status=1):\n",
      "STOP: TOTAL NO. of ITERATIONS REACHED LIMIT.\n",
      "\n",
      "Increase the number of iterations (max_iter) or scale the data as shown in:\n",
      "    https://scikit-learn.org/stable/modules/preprocessing.html\n",
      "Please also refer to the documentation for alternative solver options:\n",
      "    https://scikit-learn.org/stable/modules/linear_model.html#logistic-regression\n",
      "  n_iter_i = _check_optimize_result(\n",
      "/Users/aparnabimal/opt/anaconda3/lib/python3.9/site-packages/sklearn/linear_model/_logistic.py:814: ConvergenceWarning: lbfgs failed to converge (status=1):\n",
      "STOP: TOTAL NO. of ITERATIONS REACHED LIMIT.\n",
      "\n",
      "Increase the number of iterations (max_iter) or scale the data as shown in:\n",
      "    https://scikit-learn.org/stable/modules/preprocessing.html\n",
      "Please also refer to the documentation for alternative solver options:\n",
      "    https://scikit-learn.org/stable/modules/linear_model.html#logistic-regression\n",
      "  n_iter_i = _check_optimize_result(\n",
      "/Users/aparnabimal/opt/anaconda3/lib/python3.9/site-packages/sklearn/linear_model/_logistic.py:814: ConvergenceWarning: lbfgs failed to converge (status=1):\n",
      "STOP: TOTAL NO. of ITERATIONS REACHED LIMIT.\n",
      "\n",
      "Increase the number of iterations (max_iter) or scale the data as shown in:\n",
      "    https://scikit-learn.org/stable/modules/preprocessing.html\n",
      "Please also refer to the documentation for alternative solver options:\n",
      "    https://scikit-learn.org/stable/modules/linear_model.html#logistic-regression\n",
      "  n_iter_i = _check_optimize_result(\n",
      "/Users/aparnabimal/opt/anaconda3/lib/python3.9/site-packages/sklearn/linear_model/_logistic.py:814: ConvergenceWarning: lbfgs failed to converge (status=1):\n",
      "STOP: TOTAL NO. of ITERATIONS REACHED LIMIT.\n",
      "\n",
      "Increase the number of iterations (max_iter) or scale the data as shown in:\n",
      "    https://scikit-learn.org/stable/modules/preprocessing.html\n",
      "Please also refer to the documentation for alternative solver options:\n",
      "    https://scikit-learn.org/stable/modules/linear_model.html#logistic-regression\n",
      "  n_iter_i = _check_optimize_result(\n"
     ]
    },
    {
     "data": {
      "text/plain": [
       "BaggingClassifier(base_estimator=LogisticRegression(), n_estimators=50)"
      ]
     },
     "execution_count": 65,
     "metadata": {},
     "output_type": "execute_result"
    },
    {
     "name": "stdout",
     "output_type": "stream",
     "text": [
      "Accuracy: 0.796602439858625\n",
      "Precision:  0.7943181818181818\n",
      "Recall:  0.30364900086880975\n",
      "F1-score:  0.43934632306725335\n",
      "Confusion matrix: \n",
      " [[6288  181]\n",
      " [1603  699]]\n",
      "Classification report: \n",
      "               precision    recall  f1-score   support\n",
      "\n",
      "           0       0.80      0.97      0.88      6469\n",
      "           1       0.79      0.30      0.44      2302\n",
      "\n",
      "    accuracy                           0.80      8771\n",
      "   macro avg       0.80      0.64      0.66      8771\n",
      "weighted avg       0.80      0.80      0.76      8771\n",
      "\n"
     ]
    }
   ],
   "source": [
    "from sklearn.ensemble import BaggingClassifier\n",
    "\n",
    "#Initializing logistic regression classifier\n",
    "log_reg = LogisticRegression()\n",
    "\n",
    "#Initializing the bagging classifier\n",
    "bagging_clf = BaggingClassifier(base_estimator=log_reg, n_estimators=50)\n",
    "\n",
    "#Fitting model with training data\n",
    "bagging_clf.fit(X_train1, y_train1)\n",
    "\n",
    "#Making predictions for Success\n",
    "y_pred = bagging_clf.predict(X_test1)\n",
    "\n",
    "#Evaluating the model\n",
    "print('Accuracy:', accuracy_score(y_test1, y_pred))\n",
    "print(\"Precision: \", precision_score(y_test1, y_pred))\n",
    "print(\"Recall: \", recall_score(y_test1, y_pred))\n",
    "print(\"F1-score: \", f1_score(y_test1, y_pred))\n",
    "print(\"Confusion matrix: \\n\", sk_confusion_matrix(y_test1, y_pred))\n",
    "print(\"Classification report: \\n\",classification_report(y_test1, y_pred))"
   ]
  },
  {
   "cell_type": "markdown",
   "id": "05327ec5",
   "metadata": {},
   "source": [
    "Using RFE for feature selection and then fitting into logistic regression model"
   ]
  },
  {
   "cell_type": "code",
   "execution_count": 66,
   "id": "2c3459a0",
   "metadata": {},
   "outputs": [
    {
     "data": {
      "text/plain": [
       "RFE(estimator=LogisticRegression(), n_features_to_select=5)"
      ]
     },
     "execution_count": 66,
     "metadata": {},
     "output_type": "execute_result"
    },
    {
     "name": "stdout",
     "output_type": "stream",
     "text": [
      "[1 1 2 1 3 4 1 1 6 5]\n",
      "Accuracy: 0.7964884277733439\n",
      "Precision:  0.7914317925591883\n",
      "Recall:  0.3049522154648132\n",
      "F1-score:  0.4402634054562559\n",
      "Confusion matrix: \n",
      " [[6284  185]\n",
      " [1600  702]]\n",
      "Classification report: \n",
      "               precision    recall  f1-score   support\n",
      "\n",
      "           0       0.80      0.97      0.88      6469\n",
      "           1       0.79      0.30      0.44      2302\n",
      "\n",
      "    accuracy                           0.80      8771\n",
      "   macro avg       0.79      0.64      0.66      8771\n",
      "weighted avg       0.80      0.80      0.76      8771\n",
      "\n"
     ]
    }
   ],
   "source": [
    "#Initializing logistic regression model\n",
    "lr = LogisticRegression()\n",
    "\n",
    "#Initializing RFE with logistic regression model and no of features selected\n",
    "rfe = RFE(lr, n_features_to_select=5)\n",
    "\n",
    "#Fitting model with training data\n",
    "rfe.fit(X_train1, y_train1)\n",
    "\n",
    "#Print the ranking of each feature, with the highest ranked feature being 1\n",
    "print(rfe.ranking_)\n",
    "\n",
    "#Making predictions for Success\n",
    "y_pred = rfe.predict(X_test1)\n",
    "\n",
    "#Evaluating the model\n",
    "print('Accuracy:', accuracy_score(y_test1, y_pred))\n",
    "print(\"Precision: \", precision_score(y_test1, y_pred))\n",
    "print(\"Recall: \", recall_score(y_test1, y_pred))\n",
    "print(\"F1-score: \", f1_score(y_test1, y_pred))\n",
    "print(\"Confusion matrix: \\n\", sk_confusion_matrix(y_test1, y_pred))\n",
    "print(\"Classification report: \\n\",classification_report(y_test1, y_pred))"
   ]
  },
  {
   "cell_type": "markdown",
   "id": "4e8bad12",
   "metadata": {},
   "source": [
    "Using SMOTE for feature selection and then fitting into logistic regression model"
   ]
  },
  {
   "cell_type": "code",
   "execution_count": 67,
   "id": "c0ecb81b",
   "metadata": {},
   "outputs": [
    {
     "name": "stderr",
     "output_type": "stream",
     "text": [
      "/Users/aparnabimal/opt/anaconda3/lib/python3.9/site-packages/sklearn/linear_model/_logistic.py:814: ConvergenceWarning: lbfgs failed to converge (status=1):\n",
      "STOP: TOTAL NO. of ITERATIONS REACHED LIMIT.\n",
      "\n",
      "Increase the number of iterations (max_iter) or scale the data as shown in:\n",
      "    https://scikit-learn.org/stable/modules/preprocessing.html\n",
      "Please also refer to the documentation for alternative solver options:\n",
      "    https://scikit-learn.org/stable/modules/linear_model.html#logistic-regression\n",
      "  n_iter_i = _check_optimize_result(\n"
     ]
    },
    {
     "data": {
      "text/plain": [
       "LogisticRegression()"
      ]
     },
     "execution_count": 67,
     "metadata": {},
     "output_type": "execute_result"
    },
    {
     "name": "stdout",
     "output_type": "stream",
     "text": [
      "Accuracy: 0.6191996351613271\n",
      "Precision:  0.4066546762589928\n",
      "Recall:  0.9821894005212859\n",
      "F1-score:  0.5751717120325617\n",
      "Confusion matrix: \n",
      " [[3170 3299]\n",
      " [  41 2261]]\n"
     ]
    }
   ],
   "source": [
    "from imblearn.over_sampling import SMOTE\n",
    "\n",
    "smote = SMOTE(random_state=42)\n",
    "X_train_resampled, y_train_resampled = smote.fit_resample(X_train1, y_train1)\n",
    "\n",
    "#Fitting model with resampled data\n",
    "logreg = LogisticRegression()\n",
    "logreg.fit(X_train_resampled, y_train_resampled)\n",
    "\n",
    "#Making predictions for Success\n",
    "y_pred = logreg.predict(X_test1)\n",
    "\n",
    "#Evaluating the model\n",
    "accuracy = accuracy_score(y_test1, y_pred)\n",
    "precision = precision_score(y_test1, y_pred)\n",
    "recall = recall_score(y_test1, y_pred)\n",
    "f1 = f1_score(y_test1, y_pred)\n",
    "conf_matrix = sk_confusion_matrix(y_test1, y_pred)\n",
    "print('Accuracy:', accuracy)\n",
    "print(\"Precision: \", precision)\n",
    "print(\"Recall: \", recall)\n",
    "print(\"F1-score: \", f1)\n",
    "print(\"Confusion matrix: \\n\", conf_matrix)"
   ]
  },
  {
   "cell_type": "markdown",
   "id": "280c3278",
   "metadata": {},
   "source": [
    "## SVM model"
   ]
  },
  {
   "cell_type": "markdown",
   "id": "4609c437",
   "metadata": {},
   "source": [
    "GridSearch has been used to determine the hyperparameters that are optimal for the model i.e., to get the kernel and C value to use and then fit and test the model based on these hyperparameters"
   ]
  },
  {
   "cell_type": "markdown",
   "id": "b154e147",
   "metadata": {},
   "source": [
    "The kernels are limited to rbf and the C value to 0.01, 0.1, 1"
   ]
  },
  {
   "cell_type": "markdown",
   "id": "68a47333",
   "metadata": {},
   "source": [
    "SVM classifier with no fine-tuning"
   ]
  },
  {
   "cell_type": "code",
   "execution_count": 68,
   "id": "0d8ac145",
   "metadata": {},
   "outputs": [
    {
     "data": {
      "text/plain": [
       "SVC(C=0.1, kernel='linear')"
      ]
     },
     "execution_count": 68,
     "metadata": {},
     "output_type": "execute_result"
    },
    {
     "name": "stdout",
     "output_type": "stream",
     "text": [
      "Accuracy: 0.7808687720898415\n",
      "Precision:  0.7844311377245509\n",
      "Recall:  0.22762814943527368\n",
      "F1-score:  0.3528619528619528\n",
      "Confusion matrix: \n",
      " [[6325  144]\n",
      " [1778  524]]\n",
      "Classification report: \n",
      "               precision    recall  f1-score   support\n",
      "\n",
      "           0       0.78      0.98      0.87      6469\n",
      "           1       0.78      0.23      0.35      2302\n",
      "\n",
      "    accuracy                           0.78      8771\n",
      "   macro avg       0.78      0.60      0.61      8771\n",
      "weighted avg       0.78      0.78      0.73      8771\n",
      "\n"
     ]
    }
   ],
   "source": [
    "#SVM classifier with a linear kernel\n",
    "svm = SVC(kernel='linear', C=0.1)\n",
    "\n",
    "#Fitting model with training data\n",
    "svm.fit(X_train1, y_train1)\n",
    "\n",
    "#Making predictions for Success\n",
    "y_pred = svm.predict(X_test1)\n",
    "\n",
    "#Evaluating the model\n",
    "print('Accuracy:', accuracy_score(y_test1, y_pred))\n",
    "print(\"Precision: \", precision_score(y_test1, y_pred))\n",
    "print(\"Recall: \", recall_score(y_test1, y_pred))\n",
    "print(\"F1-score: \", f1_score(y_test1, y_pred))\n",
    "print(\"Confusion matrix: \\n\", sk_confusion_matrix(y_test1, y_pred))\n",
    "print(\"Classification report: \\n\",classification_report(y_test1, y_pred))"
   ]
  },
  {
   "cell_type": "markdown",
   "id": "2bc27f46",
   "metadata": {},
   "source": [
    "PCA to reduce the dimensionality of the training data and then apply logistic regression model to make predictions."
   ]
  },
  {
   "cell_type": "code",
   "execution_count": 69,
   "id": "7ff14415",
   "metadata": {},
   "outputs": [
    {
     "data": {
      "text/plain": [
       "SVC(C=0.1)"
      ]
     },
     "execution_count": 69,
     "metadata": {},
     "output_type": "execute_result"
    },
    {
     "name": "stdout",
     "output_type": "stream",
     "text": [
      "Accuracy: 0.7865693763538936\n",
      "Precision:  0.7897574123989218\n",
      "Recall:  0.2545612510860122\n",
      "F1-score:  0.3850197109067018\n",
      "Confusion matrix: \n",
      " [[6313  156]\n",
      " [1716  586]]\n",
      "Classification report: \n",
      "               precision    recall  f1-score   support\n",
      "\n",
      "           0       0.79      0.98      0.87      6469\n",
      "           1       0.79      0.25      0.39      2302\n",
      "\n",
      "    accuracy                           0.79      8771\n",
      "   macro avg       0.79      0.62      0.63      8771\n",
      "weighted avg       0.79      0.79      0.74      8771\n",
      "\n"
     ]
    }
   ],
   "source": [
    "#PCA to reduce dimensionality\n",
    "pca = PCA(n_components=4)\n",
    "X_train_pca = pca.fit_transform(X_train1)\n",
    "X_test_pca = pca.transform(X_test1)\n",
    "\n",
    "#SVM classifier with rbf kernel\n",
    "svm = SVC(kernel='rbf', C=0.1)\n",
    "\n",
    "#Fitting model with training data\n",
    "svm.fit(X_train_pca, y_train1)\n",
    "\n",
    "#Making predictions for Success\n",
    "y_pred = svm.predict(X_test_pca)\n",
    "\n",
    "#Evaluating the model\n",
    "print('Accuracy:', accuracy_score(y_test1, y_pred))\n",
    "print(\"Precision: \", precision_score(y_test1, y_pred))\n",
    "print(\"Recall: \", recall_score(y_test1, y_pred))\n",
    "print(\"F1-score: \", f1_score(y_test1, y_pred))\n",
    "print(\"Confusion matrix: \\n\", sk_confusion_matrix(y_test1, y_pred))\n",
    "print(\"Classification report: \\n\",classification_report(y_test1, y_pred))"
   ]
  },
  {
   "cell_type": "markdown",
   "id": "c48dbc6f",
   "metadata": {},
   "source": [
    "Using RFE for feature selection and then fitting into SVM model"
   ]
  },
  {
   "cell_type": "code",
   "execution_count": 70,
   "id": "e22ae5cd",
   "metadata": {},
   "outputs": [
    {
     "data": {
      "text/plain": [
       "RFE(estimator=SVC(C=0.1, kernel='linear'), n_features_to_select=5)"
      ]
     },
     "execution_count": 70,
     "metadata": {},
     "output_type": "execute_result"
    },
    {
     "data": {
      "text/plain": [
       "SVC(C=0.1, kernel='linear')"
      ]
     },
     "execution_count": 70,
     "metadata": {},
     "output_type": "execute_result"
    },
    {
     "name": "stdout",
     "output_type": "stream",
     "text": [
      "Accuracy: 0.7808687720898415\n",
      "Precision:  0.7844311377245509\n",
      "Recall:  0.22762814943527368\n",
      "F1-score:  0.3528619528619528\n",
      "Confusion matrix: \n",
      " [[6325  144]\n",
      " [1778  524]]\n",
      "Classification report: \n",
      "               precision    recall  f1-score   support\n",
      "\n",
      "           0       0.78      0.98      0.87      6469\n",
      "           1       0.78      0.23      0.35      2302\n",
      "\n",
      "    accuracy                           0.78      8771\n",
      "   macro avg       0.78      0.60      0.61      8771\n",
      "weighted avg       0.78      0.78      0.73      8771\n",
      "\n"
     ]
    }
   ],
   "source": [
    "#Creating a SVM classifier with linear kernel and C=0.1\n",
    "svm = SVC(kernel='linear', C=0.1)\n",
    "\n",
    "#Creating a RFE object with SVM\n",
    "rfe = RFE(estimator=svm, n_features_to_select=5)\n",
    "\n",
    "# fit the RFE object to the training data\n",
    "rfe.fit(X_train1, y_train1)\n",
    "\n",
    "#Selecting the optimal features for training and testing set\n",
    "X_train_rfe = rfe.transform(X_train1)\n",
    "X_test_rfe = rfe.transform(X_test1)\n",
    "\n",
    "#Fitting model with training data\n",
    "svm.fit(X_train_rfe, y_train1)\n",
    "\n",
    "#Making predictions for Success\n",
    "y_pred = svm.predict(X_test_rfe)\n",
    "\n",
    "#Evaluating the model\n",
    "print('Accuracy:', accuracy_score(y_test1, y_pred))\n",
    "print(\"Precision: \", precision_score(y_test1, y_pred))\n",
    "print(\"Recall: \", recall_score(y_test1, y_pred))\n",
    "print(\"F1-score: \", f1_score(y_test1, y_pred))\n",
    "print(\"Confusion matrix: \\n\", sk_confusion_matrix(y_test1, y_pred))\n",
    "print(\"Classification report: \\n\",classification_report(y_test1, y_pred))"
   ]
  },
  {
   "cell_type": "markdown",
   "id": "f32b9d56",
   "metadata": {},
   "source": [
    "SVM with GridSearch"
   ]
  },
  {
   "cell_type": "code",
   "execution_count": 71,
   "id": "7b2856a8",
   "metadata": {},
   "outputs": [
    {
     "data": {
      "text/plain": [
       "GridSearchCV(cv=5, estimator=SVC(),\n",
       "             param_grid={'C': [0.01, 0.1, 1], 'kernel': ['rbf']},\n",
       "             scoring='accuracy')"
      ]
     },
     "execution_count": 71,
     "metadata": {},
     "output_type": "execute_result"
    },
    {
     "name": "stdout",
     "output_type": "stream",
     "text": [
      "Best hyperparameters:  {'C': 1, 'kernel': 'rbf'}\n"
     ]
    },
    {
     "data": {
      "text/plain": [
       "SVC(C=1)"
      ]
     },
     "execution_count": 71,
     "metadata": {},
     "output_type": "execute_result"
    }
   ],
   "source": [
    "#Defining the hyperparameter grid for the search\n",
    "param_grid_svm = {'kernel': ['rbf'], \n",
    "              'C': [0.01, 0.1, 1]}\n",
    "\n",
    "svm_model = SVC()\n",
    "\n",
    "#Creating an instance of the GridSearchCV object\n",
    "grid_search_svm = GridSearchCV(svm_model, param_grid_svm, cv=5, scoring='accuracy')\n",
    "\n",
    "#Fitting model with training data\n",
    "grid_search_svm.fit(X_train1, y_train1)\n",
    "\n",
    "#Printing the best hyperparameters found by the search \n",
    "print(\"Best hyperparameters: \", grid_search_svm.best_params_)\n",
    "\n",
    "#Traning the SVM model based on the best hyperparameters\n",
    "best_kernel = grid_search_svm.best_params_['kernel']\n",
    "best_C = grid_search_svm.best_params_['C']\n",
    "final_svm_model = SVC(kernel=best_kernel, C=best_C)\n",
    "final_svm_model.fit(X_train1, y_train1)"
   ]
  },
  {
   "cell_type": "markdown",
   "id": "186e3407",
   "metadata": {},
   "source": [
    "Evaluating the confusion matrix"
   ]
  },
  {
   "cell_type": "code",
   "execution_count": 72,
   "id": "470d4caa",
   "metadata": {},
   "outputs": [
    {
     "name": "stdout",
     "output_type": "stream",
     "text": [
      "Accuracy: 0.8082316725572911\n",
      "Precision:  0.7787769784172662\n",
      "Recall:  0.37619461337966986\n",
      "F1-score:  0.5073227885178676\n",
      "Confusion matrix: \n",
      " [[6223  246]\n",
      " [1436  866]]\n",
      "Classification report: \n",
      "               precision    recall  f1-score   support\n",
      "\n",
      "           0       0.81      0.96      0.88      6469\n",
      "           1       0.78      0.38      0.51      2302\n",
      "\n",
      "    accuracy                           0.81      8771\n",
      "   macro avg       0.80      0.67      0.69      8771\n",
      "weighted avg       0.80      0.81      0.78      8771\n",
      "\n"
     ]
    }
   ],
   "source": [
    "#Making predictions for Success\n",
    "y_pred_svm = final_svm_model.predict(X_test1)\n",
    "\n",
    "#Evaluating the model\n",
    "print('Accuracy:', accuracy_score(y_test1, y_pred_svm))\n",
    "print(\"Precision: \", precision_score(y_test1, y_pred_svm))\n",
    "print(\"Recall: \", recall_score(y_test1, y_pred_svm))\n",
    "print(\"F1-score: \", f1_score(y_test1, y_pred_svm))\n",
    "print(\"Confusion matrix: \\n\", sk_confusion_matrix(y_test1, y_pred_svm))\n",
    "print(\"Classification report: \\n\",classification_report(y_test1, y_pred_svm))"
   ]
  },
  {
   "cell_type": "markdown",
   "id": "c638349b",
   "metadata": {},
   "source": [
    "# References:"
   ]
  },
  {
   "cell_type": "markdown",
   "id": "4d970282",
   "metadata": {},
   "source": [
    "https://medium.com/@kyawsawhtoon/a-guide-to-knn-imputation-95e2dc496e\n",
    "\n",
    "https://www.geeksforgeeks.org/how-to-scale-pandas-dataframe-columns/\n",
    "\n",
    "https://machinelearningmastery.com/a-gentle-introduction-to-normality-tests-in-python/\n",
    "\n",
    "https://www.learnpythonwithrune.org/plot-world-data-to-map-using-python-in-3-easy-steps/"
   ]
  }
 ],
 "metadata": {
  "kernelspec": {
   "display_name": "Python 3 (ipykernel)",
   "language": "python",
   "name": "python3"
  },
  "language_info": {
   "codemirror_mode": {
    "name": "ipython",
    "version": 3
   },
   "file_extension": ".py",
   "mimetype": "text/x-python",
   "name": "python",
   "nbconvert_exporter": "python",
   "pygments_lexer": "ipython3",
   "version": "3.9.12"
  }
 },
 "nbformat": 4,
 "nbformat_minor": 5
}
